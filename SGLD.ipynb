{
 "cells": [
  {
   "cell_type": "code",
   "execution_count": 1,
   "id": "e1ca92e1",
   "metadata": {},
   "outputs": [
    {
     "name": "stdout",
     "output_type": "stream",
     "text": [
      "total amount of tokens in dataset: 0.256M\n"
     ]
    },
    {
     "data": {
      "application/vnd.jupyter.widget-view+json": {
       "model_id": "e8ce832d7df04d2882e7e4d00416a114",
       "version_major": 2,
       "version_minor": 0
      },
      "text/plain": [
       "Resolving data files:   0%|          | 0/104 [00:00<?, ?it/s]"
      ]
     },
     "metadata": {},
     "output_type": "display_data"
    },
    {
     "data": {
      "application/vnd.jupyter.widget-view+json": {
       "model_id": "ebb9a03b6bc347b9972358b1372b257c",
       "version_major": 2,
       "version_minor": 0
      },
      "text/plain": [
       "Resolving data files:   0%|          | 0/104 [00:00<?, ?it/s]"
      ]
     },
     "metadata": {},
     "output_type": "display_data"
    },
    {
     "data": {
      "application/vnd.jupyter.widget-view+json": {
       "model_id": "5232a0c2938148668d8ce48a25942827",
       "version_major": 2,
       "version_minor": 0
      },
      "text/plain": [
       "Resolving data files:   0%|          | 0/104 [00:00<?, ?it/s]"
      ]
     },
     "metadata": {},
     "output_type": "display_data"
    },
    {
     "data": {
      "application/vnd.jupyter.widget-view+json": {
       "model_id": "94094cdb83ba413d96e9c593bab29b27",
       "version_major": 2,
       "version_minor": 0
      },
      "text/plain": [
       "Resolving data files:   0%|          | 0/104 [00:00<?, ?it/s]"
      ]
     },
     "metadata": {},
     "output_type": "display_data"
    }
   ],
   "source": [
    "import torch\n",
    "from utils import *\n",
    "from utils import TemperatureScheduler, calc_ce_loss, TokenizedDataset, DotDict, AutoEncoderTopK\n",
    "# Example usage:\n",
    "from transformers import AutoModelForCausalLM, AutoTokenizer\n",
    "# model_name = \"gpt2\"\n",
    "# model_name = \"HuggingFaceTB/SmolLM-360M\"\n",
    "model_name = \"HuggingFaceTB/SmolLM-135M\"\n",
    "m_name_save= model_name.replace(\"/\", \"_\")\n",
    "device = 'cuda' if torch.cuda.is_available() else 'cpu'\n",
    "\n",
    "model = AutoModelForCausalLM.from_pretrained(model_name).to(device)\n",
    "tokenizer = AutoTokenizer.from_pretrained(model_name)\n",
    "tokenizer.add_bos_token = True\n",
    "# batch_size = 512\n",
    "# batch_size = 32\n",
    "batch_size =32\n",
    "max_length = 128\n",
    "learning_rate = 1e-3\n",
    "\n",
    "# Handle datasets, activation layers, etc. for GPT2 vs SmolLM\n",
    "if(model_name == \"gpt2\"):\n",
    "    target_layer = 'transformer.h.5'\n",
    "    d_name = None\n",
    "else: \n",
    "    target_layer = \"model.layers.18\"\n",
    "    d_name = \"cosmopedia-v2\"\n",
    "debug = True\n",
    "if(debug):\n",
    "    if(model_name == \"gpt2\"):\n",
    "        dataset_name = \"Elriggs/openwebtext-100k\"\n",
    "    else: \n",
    "        dataset_name = \"HuggingFaceTB/smollm-corpus\"\n",
    "    # num_datapoints = 1_000_000\n",
    "    # num_datapoints = 20_000\n",
    "    # num_datapoints = 15_000\n",
    "    num_datapoints = 2_000\n",
    "    total_batches = num_datapoints // batch_size\n",
    "    print(f\"total amount of tokens in dataset: {num_datapoints * max_length / 1e6}M\")\n",
    "else:    \n",
    "    if(model_name == \"gpt2\"):\n",
    "        dataset_name = \"prithivMLmods/OpenWeb888K\"\n",
    "        num_datapoints = 888_000 # 880_000\n",
    "        total_batches = 888_000 // batch_size\n",
    "    else: \n",
    "        dataset_name = \"HuggingFaceTB/smollm-corpus\"\n",
    "        num_datapoints = 2_000_000\n",
    "        total_batches = num_datapoints // batch_size\n",
    "        print(f\"total amount of tokens in dataset: {num_datapoints * max_length / 1e6}M\")\n",
    "\n",
    "data_generator = TokenizedDataset(dataset_name, tokenizer, d_name, batch_size=batch_size, max_length=max_length, total_batches=total_batches)\n",
    "\n",
    "val_data_generator = TokenizedDataset(dataset_name, tokenizer, d_name, batch_size=batch_size, max_length=max_length, total_batches=total_batches, shuffle_seed=98)"
   ]
  },
  {
   "cell_type": "markdown",
   "id": "d603c094",
   "metadata": {},
   "source": [
    "# Download Pretrained SAE"
   ]
  },
  {
   "cell_type": "code",
   "execution_count": null,
   "id": "9f18f37e",
   "metadata": {},
   "outputs": [
    {
     "name": "stdout",
     "output_type": "stream",
     "text": [
      "Memory usage: 0.51 GB\n",
      "Memory usage: 0.65 GB\n"
     ]
    }
   ],
   "source": [
    "# Now we want to download all our SAEs\n",
    "import json\n",
    "from huggingface_hub import hf_hub_download\n",
    "huggingface_name = \"Elriggs/seq_concat_HuggingFaceTB_SmolLM-135M_model.layers.18\"\n",
    "name_prefix = f\"sae_k=30_tokBias=True\"\n",
    "sae_name_style = name_prefix + \".pt\"\n",
    "cfg_name_style = name_prefix + \"_cfg.json\"\n",
    "\n",
    "model_path = hf_hub_download(\n",
    "    repo_id=huggingface_name,\n",
    "    filename=sae_name_style\n",
    ")\n",
    "\n",
    "# Download config file\n",
    "config_path = hf_hub_download(\n",
    "    repo_id=huggingface_name,\n",
    "    filename=cfg_name_style\n",
    ")\n",
    "cfg = DotDict(json.load(open(config_path)))\n",
    "\n",
    "sae = AutoEncoderTopK.from_pretrained(model_path, k=cfg.k, device = None, embedding=True)\n",
    "print(f\"Memory usage: {torch.cuda.memory_allocated()/1024**3:.2f} GB\")\n",
    "\n",
    "sae.to(device)\n",
    "# print memory  in GB\n",
    "print(f\"Memory usage: {torch.cuda.memory_allocated()/1024**3:.2f} GB\")"
   ]
  },
  {
   "cell_type": "markdown",
   "id": "cdcaaad7",
   "metadata": {},
   "source": [
    "# SGLD\n",
    "Train the LLM, alternating SGD steps & adding noise (ie temperature) to the weights. \n",
    "Code & paper from: https://github.com/bfpill/devinterp-1/blob/main/modular_addition/calc_lambda.ipynb\n",
    "use an elasticity loss (ie difference from original weights) & various scaling terms, which we do not need here.\n",
    "\n",
    "We've simplified for our case as simply:\n",
    "weight_update = lr\\*gradient + temp\\*noise\n",
    "\n",
    "So scaling the temperature increases the noise, which increases the overall CE loss."
   ]
  },
  {
   "cell_type": "code",
   "execution_count": 3,
   "id": "9c99bb88",
   "metadata": {},
   "outputs": [
    {
     "name": "stderr",
     "output_type": "stream",
     "text": [
      "  0%|          | 0/62 [00:00<?, ?it/s]"
     ]
    },
    {
     "name": "stdout",
     "output_type": "stream",
     "text": [
      "Batch 0/62, CE diff: 0.000, fvu: 0.117 | temperature: 0.0e+00\n"
     ]
    },
    {
     "name": "stderr",
     "output_type": "stream",
     "text": [
      " 42%|████▏     | 26/62 [00:28<00:25,  1.39it/s]"
     ]
    },
    {
     "name": "stdout",
     "output_type": "stream",
     "text": [
      "Batch 25/62, CE diff: -0.001, fvu: 0.113 | temperature: 8.0e-05\n"
     ]
    },
    {
     "name": "stderr",
     "output_type": "stream",
     "text": [
      " 81%|████████  | 50/62 [00:44<00:07,  1.55it/s]"
     ]
    },
    {
     "name": "stdout",
     "output_type": "stream",
     "text": [
      "Batch 50/62, CE diff: -0.002, fvu: 0.114 | temperature: 7.5e-05\n",
      "Saving feature activations\n"
     ]
    },
    {
     "name": "stderr",
     "output_type": "stream",
     "text": [
      "100%|██████████| 20/20 [00:16<00:00,  1.25it/s]\n",
      " 94%|█████████▎| 58/62 [01:11<00:04,  1.23s/it]"
     ]
    },
    {
     "name": "stdout",
     "output_type": "stream",
     "text": [
      "Restarting Adam optimizer\n"
     ]
    },
    {
     "name": "stderr",
     "output_type": "stream",
     "text": [
      "100%|██████████| 62/62 [01:14<00:00,  1.20s/it]\n"
     ]
    }
   ],
   "source": [
    "import os\n",
    "\n",
    "def update_feature_sim(feature_sim, per_feature_MSE, local_ids, num_features, batch_idx):\n",
    "    # find out how many times each feature index shows up in local_ids\n",
    "    num_features = post_relu_feat_acts_BF.shape[-1]\n",
    "    # Get unique indices and their counts\n",
    "    unique_indices, counts = torch.unique(local_ids, return_counts=True)\n",
    "\n",
    "    unique_counts = torch.zeros(num_features, device=local_ids.device)\n",
    "    unique_counts.index_put_((unique_indices,), counts.float())\n",
    "\n",
    "    feature_mse_sum = torch.zeros(num_features, device=local_ids.device)\n",
    "    feature_mse_sum.scatter_add_(0, local_ids.flatten(), per_feature_MSE.flatten())\n",
    "\n",
    "    # Compute the average MSE for each feature by dividing by its count\n",
    "    # (avoiding division by zero for features that don't appear)\n",
    "    feature_mask = unique_counts > 0\n",
    "    feature_mse_avg = torch.zeros_like(feature_mse_sum)\n",
    "    feature_mse_avg[feature_mask] = feature_mse_sum[feature_mask] / unique_counts[feature_mask]\n",
    "\n",
    "    feature_sim[batch_idx, unique_indices] = feature_mse_avg[unique_indices].to(\"cpu\")\n",
    "    return feature_sim\n",
    "\n",
    "def sub_bias_and_normalize(x, sae, batch, normalize=True):\n",
    "    if normalize:\n",
    "        x = (x - x.mean(dim=-1, keepdim=True)) / (x.std(dim=-1, keepdim=True) + 1e-8)\n",
    "    if sae.per_token_bias:\n",
    "        x = x - sae.per_token_bias(batch)\n",
    "    return x\n",
    "\n",
    "import math\n",
    "# lots of code used from https://github.com/bfpill/devinterp-1/blob/main/modular_addition/calc_lambda.ipynb\n",
    "# feature_sim = torch.ones(total_batches, 9216)*-0.1 # num of features\n",
    "num_features = sae.encoder.weight.shape[0]\n",
    "dataset_size = num_datapoints* max_length\n",
    "lr = 1e-4  # \"epsilon\"\n",
    "normalize = True\n",
    "#temp 5.0e-4 went t. 2.0 & never recovered (also gamm=10)\n",
    "# Temperature parameters\n",
    "# max_temp = 2.0e-4\n",
    "max_temp = 8.0e-5\n",
    "lowest_temp = 0.0\n",
    "peak_noise_fraction = 0.001\n",
    "start_decreasing_fraction = 0.8\n",
    "stay_at_zero_fraction = 0.9\n",
    "tempScheduler = TemperatureScheduler(\n",
    "    max_temp,\n",
    "    lowest_temp,\n",
    "    peak_noise_fraction,\n",
    "    start_decreasing_fraction,\n",
    "    stay_at_zero_fraction\n",
    ")\n",
    "# save_checkpoints_every = 10\n",
    "# batches_to_run = 10 #for validation\n",
    "save_checkpoints_every = 50\n",
    "batches_to_run = 20 #for validation\n",
    "\n",
    "\n",
    "from copy import deepcopy\n",
    "orig_model = deepcopy(model)\n",
    "orig_sae = deepcopy(sae)\n",
    "all_ce_losses = []\n",
    "# all_elasticity_losses = []\n",
    "all_ce_diffs = []\n",
    "fvus = []\n",
    "# Optimizers\n",
    "# For the LLM, we start w/ SGD when adding noise (for SLGD), then switch to Adam for \"recovering\" since that converges better.\n",
    "sgd_opt = torch.optim.SGD(model.parameters(), lr=1.0)\n",
    "adam_opt = torch.optim.Adam(model.parameters(), lr=learning_rate)\n",
    "sae_opt = torch.optim.Adam(sae.parameters(), lr=learning_rate)\n",
    "restarted_adam=False\n",
    "for batch_idx in tqdm(range(total_batches)):\n",
    "\n",
    "    current_opt = adam_opt if tempScheduler.current_state == \"low_temp\" else sgd_opt\n",
    "    current_opt.zero_grad() \n",
    "    sae_opt.zero_grad()\n",
    "\n",
    "    if(cfg.norm_decoder):\n",
    "        sae.set_decoder_norm_to_unit_norm()\n",
    "    \n",
    "    # LLM CE loss (and grab intermediate activation for SAE)\n",
    "    batch = data_generator.next().to(device)\n",
    "    with Trace(model, target_layer) as original_trace:\n",
    "        ce_loss = model(batch, labels=batch).loss\n",
    "        new_x = original_trace.output[0] if isinstance(original_trace.output, tuple) else original_trace.output\n",
    "        new_x = new_x.detach()\n",
    "\n",
    "    full_loss = lr/2 *ce_loss\n",
    "    full_loss.backward()\n",
    "    current_opt.step()\n",
    "\n",
    "    # Check if we need to switch to Adam for \"recovering\"\n",
    "    if(tempScheduler.current_state == \"low_temp\" and not restarted_adam):\n",
    "        # Restart Adam optimizer\n",
    "        # Note: I haven't checked if you \n",
    "        print(\"Restarting Adam optimizer\")\n",
    "        # for state in adam_opt.state.values():\n",
    "        #     state.clear()\n",
    "        adam_opt = torch.optim.Adam(model.parameters(), lr=1e-5)\n",
    "        restarted_adam = True\n",
    "\n",
    "    # SAE\n",
    "    normalized_new_x = (new_x - new_x.mean(dim=-1, keepdim=True)) / (new_x.std(dim=-1, keepdim=True) + 1e-8)\n",
    "    bias = sae.per_token_bias(batch)\n",
    "    x_hat = sae(normalized_new_x - bias) + bias\n",
    "    with torch.no_grad():\n",
    "        fvu = calculate_fvu(normalized_new_x, x_hat)\n",
    "    mse = torch.mean((x_hat - normalized_new_x) ** 2)\n",
    "    mse.backward()\n",
    "    if(cfg.norm_decoder):\n",
    "        sae.remove_gradient_parallel_to_decoder_directions()\n",
    "\n",
    "    sae_opt.step()\n",
    "\n",
    "    # Add noise to the parameters\n",
    "    with torch.no_grad():\n",
    "        if tempScheduler.current_state != \"low_temp\":\n",
    "            temperature = tempScheduler.get_temperature(batch_idx, total_batches)\n",
    "            new_params = torch.nn.utils.parameters_to_vector(model.parameters()) \n",
    "            noise = torch.randn_like(new_params) * temperature\n",
    "            torch.nn.utils.vector_to_parameters(new_params + noise, model.parameters())\n",
    "\n",
    "\n",
    "    store_data_every = 5\n",
    "    print_every = 25    \n",
    "    if batch_idx % store_data_every == 0:\n",
    "        all_ce_losses.append(ce_loss.item())\n",
    "        with torch.no_grad():\n",
    "            # Get original model's acts & SAE features\n",
    "            original_ce_loss = orig_model(batch, labels=batch).loss\n",
    "            ce_diff = ce_loss - original_ce_loss\n",
    "        all_ce_diffs.append(ce_diff.item())\n",
    "        fvus.append(fvu.item())\n",
    "    if batch_idx % print_every == 0:\n",
    "        print(f\"Batch {batch_idx}/{total_batches}, CE diff: {ce_diff.item():.3f}, fvu: {fvu:.3f} | temperature: {temperature:.1e}\")\n",
    "\n",
    "    #TODO don't forget to flip this later\n",
    "    store_acts=True\n",
    "    if(store_acts):\n",
    "        with torch.no_grad():\n",
    "            # save first batch info:\n",
    "            d_model = model.config.hidden_size\n",
    "            os.makedirs(\"checkpoints\", exist_ok=True)\n",
    "            # First batch, store the original mdoel's tokens, activations, and CE loss\n",
    "            if batch_idx == 0:\n",
    "                # Note: we skip the first token for all activations, tokens to match up w/ CE loss's shape.\n",
    "                all_tokens = torch.zeros(batches_to_run*batch_size, max_length-1, dtype=torch.long)\n",
    "                val_original_ce_loss = torch.zeros(batches_to_run*batch_size, max_length-1, dtype=torch.float16)\n",
    "                all_activations = torch.zeros(batches_to_run*batch_size, max_length-1, d_model, dtype=torch.float16)\n",
    "                val_data_generator.reset_iterator()\n",
    "                for i in range(batches_to_run):\n",
    "                    batch = val_data_generator.next().to(device)\n",
    "                    with Trace(orig_model, target_layer) as original_trace:\n",
    "                        original_logits = orig_model(batch, labels=batch, reduction=\"none\").logits\n",
    "                        original_x = original_trace.output[0] if isinstance(original_trace.output, tuple) else original_trace.output\n",
    "                        original_x = original_x.detach()\n",
    "                    ce_loss = calc_ce_loss(original_logits, batch)\n",
    "\n",
    "                    val_original_ce_loss[i*batch_size:(i+1)*batch_size] = ce_loss.cpu() # already max_len - 1\n",
    "                    all_activations[i*batch_size:(i+1)*batch_size] = original_x[:, 1:].cpu()\n",
    "                    all_tokens[i*batch_size:(i+1)*batch_size] = batch[:, 1:].cpu()\n",
    "                torch.save({\n",
    "                    \"ce_loss\": val_original_ce_loss,\n",
    "                    \"all_activations\": all_activations,\n",
    "                    \"all_tokens\": all_tokens,\n",
    "                }, f\"checkpoints/first_batch_info_skip_first_token.pt\")\n",
    "                # DELETE all tokens\n",
    "                del all_tokens\n",
    "                del all_activations\n",
    "                del val_original_ce_loss\n",
    "                del original_logits\n",
    "                del original_trace\n",
    "                import gc\n",
    "                gc.collect()\n",
    "                # clear cache\n",
    "                torch.cuda.empty_cache()\n",
    "                \n",
    "            # Else, we are saving every N checkpoints\n",
    "            elif (batch_idx) % save_checkpoints_every == 0:\n",
    "                # if we shoot for 1m tokens then,\n",
    "                # batches_to_run = 1_000_000 // (batch_size*max_length)\n",
    "                num_features = orig_sae.encoder.out_features\n",
    "\n",
    "                # For reasons, we store both original feature acts & new feature acts, even though we could've cached the original SAE features.\n",
    "                original_feature_acts = torch.zeros(batches_to_run*batch_size, max_length-1, num_features, dtype=torch.float16)\n",
    "                new_feature_acts = torch.zeros(batches_to_run*batch_size, max_length-1, num_features, dtype=torch.float16)\n",
    "                val_new_ce_loss = torch.zeros(batches_to_run*batch_size, max_length-1, dtype=torch.float16)\n",
    "                all_activations = torch.zeros(batches_to_run*batch_size, max_length-1, d_model, dtype=torch.float16)\n",
    "\n",
    "                print(\"Saving feature activations\")\n",
    "                for i in tqdm(range(batches_to_run),  total=batches_to_run):\n",
    "                    batch = val_data_generator.next().to(device)\n",
    "                    with Trace(model, target_layer) as original_trace:\n",
    "                        logits = model(batch, labels=batch).logits\n",
    "                        new_x = original_trace.output[0] if isinstance(original_trace.output, tuple) else original_trace.output\n",
    "                        new_x = new_x.detach()\n",
    "                    new_ce_loss = calc_ce_loss(logits, batch)\n",
    "\n",
    "                    with Trace(orig_model, target_layer) as original_trace:\n",
    "                        # We could just get the SAE features in first batch, BUT we do need the local_ids of original-SAE for the new one\n",
    "                        _ = orig_model(batch, labels=batch) # Original CE calculated in first batch\n",
    "                        old_x = original_trace.output[0] if isinstance(original_trace.output, tuple) else original_trace.output\n",
    "                        old_x = old_x.detach()\n",
    "\n",
    "                    # x = x.normalize - bias (so ready for SAE.encode)\n",
    "                    old_x = sub_bias_and_normalize(old_x, orig_sae, batch, normalize=normalize)\n",
    "                    new_normalized_x = sub_bias_and_normalize(new_x, sae, batch, normalize=normalize)\n",
    "\n",
    "                    original_features, local_mags, local_ids = orig_sae.encode(old_x, return_topk=True)\n",
    "\n",
    "                    post_relu_feat_acts_BF = nn.functional.relu(sae.encoder(new_normalized_x - sae.b_dec))\n",
    "                    # get the activations at the feature_ids (feature_ids is = to top_indices_BK)\n",
    "                    custom_feature_acts = post_relu_feat_acts_BF.gather(dim=-1, index=local_ids)\n",
    "                    buffer_BF = torch.zeros_like(post_relu_feat_acts_BF)\n",
    "                    custom_features = buffer_BF.scatter_(dim=-1, index=local_ids, src=custom_feature_acts)\n",
    "\n",
    "                    # feature_sim = update_feature_sim(feature_sim, per_feature_MSE, local_ids, num_features = post_relu_feat_acts_BF.shape[-1], batch_idx=batch_idx)\n",
    "                    start_idx = i*(batch_size)\n",
    "                    end_idx = start_idx + (batch_size)  \n",
    "                    # Let's ignore the first token for all features in general\n",
    "                    val_new_ce_loss[start_idx:end_idx] = new_ce_loss # first token ignored by default\n",
    "                    original_feature_acts[start_idx:end_idx] = original_features[:, 1:].cpu() \n",
    "                    new_feature_acts[start_idx:end_idx] = custom_features[:, 1:].cpu()\n",
    "                    all_activations[start_idx:end_idx] = new_x[:, 1:].cpu()\n",
    "\n",
    "                # save the feature_sim, original_feature_acts, new_feature_acts\n",
    "                # make  dir if not exists\n",
    "                torch.save({\n",
    "                    # \"feature_sim\": feature_sim,\n",
    "                    \"ce_loss\": val_new_ce_loss,\n",
    "                    \"all_activations\": all_activations,\n",
    "                    \"original_feature_acts\": original_feature_acts,\n",
    "                    \"new_feature_acts\": new_feature_acts}, f\"checkpoints/feature_sim_{batch_idx}.pt\")"
   ]
  },
  {
   "cell_type": "markdown",
   "id": "e90848c1",
   "metadata": {},
   "source": []
  },
  {
   "cell_type": "code",
   "execution_count": 7,
   "id": "cdca6d66",
   "metadata": {},
   "outputs": [
    {
     "data": {
      "image/png": "[encoded data removed]",
      "text/plain": [
       "<Figure size 640x480 with 1 Axes>"
      ]
     },
     "metadata": {},
     "output_type": "display_data"
    },
    {
     "data": {
      "image/png": "[encoded data removed]",
      "text/plain": [
       "<Figure size 640x480 with 1 Axes>"
      ]
     },
     "metadata": {},
     "output_type": "display_data"
    }
   ],
   "source": [
    "# We basically want to plot the CE-diff over the batches\n",
    "import matplotlib.pyplot as plt\n",
    "# fvus, all_ce_diffs, ce_loss\n",
    "plt.plot(all_ce_diffs)\n",
    "plt.ylabel(\"CE Diff\")\n",
    "plt.xlabel(\"Batch\")\n",
    "plt.title(\"CE Diffs\")\n",
    "plt.show()\n",
    "\n",
    "plt.scatter(fvus, all_ce_diffs)\n",
    "plt.ylabel(\"CE Diff\")\n",
    "plt.xlabel(\"FVU\")\n",
    "plt.title(\"FVU x CE Diffs\")\n",
    "plt.show()\n"
   ]
  }
 ],
 "metadata": {
  "kernelspec": {
   "display_name": "main",
   "language": "python",
   "name": "python3"
  },
  "language_info": {
   "codemirror_mode": {
    "name": "ipython",
    "version": 3
   },
   "file_extension": ".py",
   "mimetype": "text/x-python",
   "name": "python",
   "nbconvert_exporter": "python",
   "pygments_lexer": "ipython3",
   "version": "3.10.12"
  }
 },
 "nbformat": 4,
 "nbformat_minor": 5
}
