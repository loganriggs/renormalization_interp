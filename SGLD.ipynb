{
 "cells": [
  {
   "cell_type": "code",
   "execution_count": 1,
   "id": "e1ca92e1",
   "metadata": {},
   "outputs": [
    {
     "name": "stdout",
     "output_type": "stream",
     "text": [
      "total amount of tokens in dataset: 12.8M\n"
     ]
    },
    {
     "data": {
      "application/vnd.jupyter.widget-view+json": {
       "model_id": "5d142ae73c984363b0c384075467bda8",
       "version_major": 2,
       "version_minor": 0
      },
      "text/plain": [
       "Resolving data files:   0%|          | 0/104 [00:00<?, ?it/s]"
      ]
     },
     "metadata": {},
     "output_type": "display_data"
    },
    {
     "data": {
      "application/vnd.jupyter.widget-view+json": {
       "model_id": "af61a6d750a34f7595740f5dbae521f9",
       "version_major": 2,
       "version_minor": 0
      },
      "text/plain": [
       "Resolving data files:   0%|          | 0/104 [00:00<?, ?it/s]"
      ]
     },
     "metadata": {},
     "output_type": "display_data"
    }
   ],
   "source": [
    "import torch\n",
    "from utils import *\n",
    "# Example usage:\n",
    "from transformers import AutoModelForCausalLM, AutoTokenizer\n",
    "# model_name = \"gpt2\"\n",
    "# model_name = \"HuggingFaceTB/SmolLM-360M\"\n",
    "model_name = \"HuggingFaceTB/SmolLM-135M\"\n",
    "m_name_save= model_name.replace(\"/\", \"_\")\n",
    "device = 'cuda' if torch.cuda.is_available() else 'cpu'\n",
    "\n",
    "model = AutoModelForCausalLM.from_pretrained(model_name).to(device)\n",
    "tokenizer = AutoTokenizer.from_pretrained(model_name)\n",
    "tokenizer.add_bos_token = True\n",
    "# batch_size = 512\n",
    "# batch_size = 32\n",
    "batch_size =32\n",
    "max_length = 128\n",
    "learning_rate = 1e-3\n",
    "if(model_name == \"gpt2\"):\n",
    "    target_layer = 'transformer.h.5'\n",
    "    d_name = None\n",
    "else: \n",
    "    target_layer = \"model.layers.18\"\n",
    "    d_name = \"cosmopedia-v2\"\n",
    "debug = True\n",
    "if(debug):\n",
    "    if(model_name == \"gpt2\"):\n",
    "        dataset_name = \"Elriggs/openwebtext-100k\"\n",
    "    else: \n",
    "        dataset_name = \"HuggingFaceTB/smollm-corpus\"\n",
    "    # num_datapoints = 1_000_000\n",
    "    num_datapoints = 100_000\n",
    "    # num_datapoints = 1_000\n",
    "    total_batches = num_datapoints // batch_size\n",
    "    print(f\"total amount of tokens in dataset: {num_datapoints * max_length / 1e6}M\")\n",
    "else:    \n",
    "    if(model_name == \"gpt2\"):\n",
    "        dataset_name = \"prithivMLmods/OpenWeb888K\"\n",
    "        num_datapoints = 888_000 # 880_000\n",
    "        total_batches = 888_000 // batch_size\n",
    "    else: \n",
    "        dataset_name = \"HuggingFaceTB/smollm-corpus\"\n",
    "        num_datapoints = 2_000_000\n",
    "        total_batches = num_datapoints // batch_size\n",
    "        print(f\"total amount of tokens in dataset: {num_datapoints * max_length / 1e6}M\")\n",
    "\n",
    "data_generator = TokenizedDataset(dataset_name, tokenizer, d_name, batch_size=batch_size, max_length=max_length, total_batches=total_batches)"
   ]
  },
  {
   "cell_type": "markdown",
   "id": "28c151f8",
   "metadata": {},
   "source": [
    "# Train SAE offset by 1 batch \n",
    "so we don't need to recompute the LLM's activations"
   ]
  },
  {
   "cell_type": "markdown",
   "id": "cdcaaad7",
   "metadata": {},
   "source": [
    "# Logan's Attempt"
   ]
  },
  {
   "cell_type": "code",
   "execution_count": 2,
   "id": "5c5544cd",
   "metadata": {},
   "outputs": [],
   "source": [
    "class TemperatureScheduler:\n",
    "    def __init__(self, \n",
    "                 high_temp=1e-3,\n",
    "                 low_temp=0.0,\n",
    "                 start_high_fraction=0.2,  # First 20% at high temp\n",
    "                 end_high_fraction=0.6,    # High temp until 60% of training\n",
    "                 end_transition_fraction=0.8):  # Low temp from 80% to end\n",
    "        \"\"\"\n",
    "        Temperature scheduler that controls noise injection during training.\n",
    "        \n",
    "        Args:\n",
    "            high_temp: The higher temperature value\n",
    "            low_temp: The lower temperature value (typically 0)\n",
    "            start_high_fraction: Fraction of training where temp reaches high_temp\n",
    "            end_high_fraction: Fraction of training where temp starts to decrease\n",
    "            end_transition_fraction: Fraction of training where temp reaches low_temp\n",
    "        \"\"\"\n",
    "        self.high_temp = high_temp\n",
    "        self.low_temp = low_temp\n",
    "        self.start_high_fraction = start_high_fraction\n",
    "        self.end_high_fraction = end_high_fraction\n",
    "        self.end_transition_fraction = end_transition_fraction\n",
    "        self.current_state = None\n",
    "        \n",
    "    def get_temperature(self, current_step, total_steps):\n",
    "        \"\"\"\n",
    "        Calculate the temperature for the current training step.\n",
    "        \n",
    "        Args:\n",
    "            current_step: Current training step (0-indexed)\n",
    "            total_steps: Total number of training steps\n",
    "            \n",
    "        Returns:\n",
    "            The temperature value for the current step\n",
    "        \"\"\"\n",
    "        # Convert to fraction of total training\n",
    "        progress = current_step / total_steps\n",
    "        \n",
    "        # Phase 1: Ramp up from low_temp to high_temp\n",
    "        if progress < self.start_high_fraction:\n",
    "            self.current_state = \"ramping_up\"\n",
    "            # Linear interpolation from low_temp to high_temp\n",
    "            alpha = progress / self.start_high_fraction\n",
    "            return self.low_temp + (self.high_temp - self.low_temp) * alpha\n",
    "        \n",
    "        # Phase 2: Stay at high_temp\n",
    "        elif progress < self.end_high_fraction:\n",
    "            self.current_state = \"high_temp\"\n",
    "            return self.high_temp\n",
    "        \n",
    "        # Phase 3: Ramp down from high_temp to low_temp\n",
    "        elif progress < self.end_transition_fraction:\n",
    "            self.current_state = \"ramping_down\"\n",
    "            # Linear interpolation from high_temp back to low_temp\n",
    "            alpha = (progress - self.end_high_fraction) / (self.end_transition_fraction - self.end_high_fraction)\n",
    "            return self.high_temp - (self.high_temp - self.low_temp) * alpha\n",
    "        \n",
    "        # Phase 4: Stay at low_temp until the end\n",
    "        else:\n",
    "            self.current_state = \"low_temp\"\n",
    "            return self.low_temp"
   ]
  },
  {
   "cell_type": "code",
   "execution_count": 3,
   "id": "9c99bb88",
   "metadata": {},
   "outputs": [
    {
     "name": "stderr",
     "output_type": "stream",
     "text": [
      "  0%|          | 0/3125 [00:00<?, ?it/s]"
     ]
    },
    {
     "name": "stderr",
     "output_type": "stream",
     "text": [
      "  0%|          | 1/3125 [00:02<2:09:36,  2.49s/it]"
     ]
    },
    {
     "name": "stdout",
     "output_type": "stream",
     "text": [
      "Batch 0/3125, CE diff: 0.000 | temperature: 0.0e+00\n"
     ]
    },
    {
     "name": "stderr",
     "output_type": "stream",
     "text": [
      "  1%|          | 26/3125 [00:23<44:23,  1.16it/s] "
     ]
    },
    {
     "name": "stdout",
     "output_type": "stream",
     "text": [
      "Batch 25/3125, CE diff: -0.002 | temperature: 2.4e-05\n"
     ]
    },
    {
     "name": "stderr",
     "output_type": "stream",
     "text": [
      "  2%|▏         | 51/3125 [00:45<44:58,  1.14it/s]"
     ]
    },
    {
     "name": "stdout",
     "output_type": "stream",
     "text": [
      "Batch 50/3125, CE diff: -0.003 | temperature: 4.8e-05\n"
     ]
    },
    {
     "name": "stderr",
     "output_type": "stream",
     "text": [
      "  2%|▏         | 76/3125 [01:07<45:22,  1.12it/s]"
     ]
    },
    {
     "name": "stdout",
     "output_type": "stream",
     "text": [
      "Batch 75/3125, CE diff: -0.005 | temperature: 7.2e-05\n"
     ]
    },
    {
     "name": "stderr",
     "output_type": "stream",
     "text": [
      "  3%|▎         | 101/3125 [01:30<45:16,  1.11it/s]"
     ]
    },
    {
     "name": "stdout",
     "output_type": "stream",
     "text": [
      "Batch 100/3125, CE diff: -0.008 | temperature: 9.6e-05\n"
     ]
    },
    {
     "name": "stderr",
     "output_type": "stream",
     "text": [
      "  4%|▍         | 126/3125 [01:52<45:32,  1.10it/s]"
     ]
    },
    {
     "name": "stdout",
     "output_type": "stream",
     "text": [
      "Batch 125/3125, CE diff: -0.004 | temperature: 1.2e-04\n"
     ]
    },
    {
     "name": "stderr",
     "output_type": "stream",
     "text": [
      "  5%|▍         | 151/3125 [02:15<45:24,  1.09it/s]"
     ]
    },
    {
     "name": "stdout",
     "output_type": "stream",
     "text": [
      "Batch 150/3125, CE diff: -0.008 | temperature: 1.4e-04\n"
     ]
    },
    {
     "name": "stderr",
     "output_type": "stream",
     "text": [
      "  6%|▌         | 176/3125 [02:38<45:14,  1.09it/s]"
     ]
    },
    {
     "name": "stdout",
     "output_type": "stream",
     "text": [
      "Batch 175/3125, CE diff: -0.002 | temperature: 1.7e-04\n"
     ]
    },
    {
     "name": "stderr",
     "output_type": "stream",
     "text": [
      "  6%|▋         | 201/3125 [03:01<44:48,  1.09it/s]"
     ]
    },
    {
     "name": "stdout",
     "output_type": "stream",
     "text": [
      "Batch 200/3125, CE diff: -0.001 | temperature: 1.9e-04\n"
     ]
    },
    {
     "name": "stderr",
     "output_type": "stream",
     "text": [
      "  7%|▋         | 226/3125 [03:24<44:32,  1.08it/s]"
     ]
    },
    {
     "name": "stdout",
     "output_type": "stream",
     "text": [
      "Batch 225/3125, CE diff: 0.001 | temperature: 2.2e-04\n"
     ]
    },
    {
     "name": "stderr",
     "output_type": "stream",
     "text": [
      "  8%|▊         | 251/3125 [03:47<44:01,  1.09it/s]"
     ]
    },
    {
     "name": "stdout",
     "output_type": "stream",
     "text": [
      "Batch 250/3125, CE diff: 0.003 | temperature: 2.4e-04\n"
     ]
    },
    {
     "name": "stderr",
     "output_type": "stream",
     "text": [
      "  9%|▉         | 276/3125 [04:10<44:00,  1.08it/s]"
     ]
    },
    {
     "name": "stdout",
     "output_type": "stream",
     "text": [
      "Batch 275/3125, CE diff: 0.008 | temperature: 2.6e-04\n"
     ]
    },
    {
     "name": "stderr",
     "output_type": "stream",
     "text": [
      " 10%|▉         | 301/3125 [04:33<43:19,  1.09it/s]"
     ]
    },
    {
     "name": "stdout",
     "output_type": "stream",
     "text": [
      "Batch 300/3125, CE diff: 0.012 | temperature: 2.9e-04\n"
     ]
    },
    {
     "name": "stderr",
     "output_type": "stream",
     "text": [
      " 10%|█         | 326/3125 [04:56<42:55,  1.09it/s]"
     ]
    },
    {
     "name": "stdout",
     "output_type": "stream",
     "text": [
      "Batch 325/3125, CE diff: 0.019 | temperature: 3.0e-04\n"
     ]
    },
    {
     "name": "stderr",
     "output_type": "stream",
     "text": [
      " 11%|█         | 351/3125 [05:20<43:01,  1.07it/s]"
     ]
    },
    {
     "name": "stdout",
     "output_type": "stream",
     "text": [
      "Batch 350/3125, CE diff: 0.019 | temperature: 3.0e-04\n"
     ]
    },
    {
     "name": "stderr",
     "output_type": "stream",
     "text": [
      " 12%|█▏        | 376/3125 [05:43<42:18,  1.08it/s]"
     ]
    },
    {
     "name": "stdout",
     "output_type": "stream",
     "text": [
      "Batch 375/3125, CE diff: 0.025 | temperature: 3.0e-04\n"
     ]
    },
    {
     "name": "stderr",
     "output_type": "stream",
     "text": [
      " 13%|█▎        | 401/3125 [06:06<41:59,  1.08it/s]"
     ]
    },
    {
     "name": "stdout",
     "output_type": "stream",
     "text": [
      "Batch 400/3125, CE diff: 0.033 | temperature: 3.0e-04\n"
     ]
    },
    {
     "name": "stderr",
     "output_type": "stream",
     "text": [
      " 14%|█▎        | 426/3125 [06:29<41:29,  1.08it/s]"
     ]
    },
    {
     "name": "stdout",
     "output_type": "stream",
     "text": [
      "Batch 425/3125, CE diff: 0.035 | temperature: 3.0e-04\n"
     ]
    },
    {
     "name": "stderr",
     "output_type": "stream",
     "text": [
      " 14%|█▍        | 451/3125 [06:52<40:59,  1.09it/s]"
     ]
    },
    {
     "name": "stdout",
     "output_type": "stream",
     "text": [
      "Batch 450/3125, CE diff: 0.037 | temperature: 3.0e-04\n"
     ]
    },
    {
     "name": "stderr",
     "output_type": "stream",
     "text": [
      " 15%|█▌        | 476/3125 [07:15<40:32,  1.09it/s]"
     ]
    },
    {
     "name": "stdout",
     "output_type": "stream",
     "text": [
      "Batch 475/3125, CE diff: 0.047 | temperature: 3.0e-04\n"
     ]
    },
    {
     "name": "stderr",
     "output_type": "stream",
     "text": [
      " 16%|█▌        | 501/3125 [07:38<40:23,  1.08it/s]"
     ]
    },
    {
     "name": "stdout",
     "output_type": "stream",
     "text": [
      "Batch 500/3125, CE diff: 0.037 | temperature: 3.0e-04\n"
     ]
    },
    {
     "name": "stderr",
     "output_type": "stream",
     "text": [
      " 17%|█▋        | 526/3125 [08:01<39:57,  1.08it/s]"
     ]
    },
    {
     "name": "stdout",
     "output_type": "stream",
     "text": [
      "Batch 525/3125, CE diff: 0.056 | temperature: 3.0e-04\n"
     ]
    },
    {
     "name": "stderr",
     "output_type": "stream",
     "text": [
      " 18%|█▊        | 551/3125 [08:24<39:32,  1.08it/s]"
     ]
    },
    {
     "name": "stdout",
     "output_type": "stream",
     "text": [
      "Batch 550/3125, CE diff: 0.050 | temperature: 3.0e-04\n"
     ]
    },
    {
     "name": "stderr",
     "output_type": "stream",
     "text": [
      " 18%|█▊        | 576/3125 [08:47<39:01,  1.09it/s]"
     ]
    },
    {
     "name": "stdout",
     "output_type": "stream",
     "text": [
      "Batch 575/3125, CE diff: 0.052 | temperature: 3.0e-04\n"
     ]
    },
    {
     "name": "stderr",
     "output_type": "stream",
     "text": [
      " 19%|█▉        | 601/3125 [09:10<38:36,  1.09it/s]"
     ]
    },
    {
     "name": "stdout",
     "output_type": "stream",
     "text": [
      "Batch 600/3125, CE diff: 0.051 | temperature: 3.0e-04\n"
     ]
    },
    {
     "name": "stderr",
     "output_type": "stream",
     "text": [
      " 20%|██        | 626/3125 [09:33<38:31,  1.08it/s]"
     ]
    },
    {
     "name": "stdout",
     "output_type": "stream",
     "text": [
      "Batch 625/3125, CE diff: 0.062 | temperature: 3.0e-04\n"
     ]
    },
    {
     "name": "stderr",
     "output_type": "stream",
     "text": [
      " 21%|██        | 651/3125 [09:56<37:57,  1.09it/s]"
     ]
    },
    {
     "name": "stdout",
     "output_type": "stream",
     "text": [
      "Batch 650/3125, CE diff: 0.066 | temperature: 2.8e-04\n"
     ]
    },
    {
     "name": "stderr",
     "output_type": "stream",
     "text": [
      " 22%|██▏       | 676/3125 [10:19<37:35,  1.09it/s]"
     ]
    },
    {
     "name": "stdout",
     "output_type": "stream",
     "text": [
      "Batch 675/3125, CE diff: 0.072 | temperature: 2.5e-04\n"
     ]
    },
    {
     "name": "stderr",
     "output_type": "stream",
     "text": [
      " 22%|██▏       | 701/3125 [10:42<37:10,  1.09it/s]"
     ]
    },
    {
     "name": "stdout",
     "output_type": "stream",
     "text": [
      "Batch 700/3125, CE diff: 0.073 | temperature: 2.3e-04\n"
     ]
    },
    {
     "name": "stderr",
     "output_type": "stream",
     "text": [
      " 23%|██▎       | 726/3125 [11:05<36:53,  1.08it/s]"
     ]
    },
    {
     "name": "stdout",
     "output_type": "stream",
     "text": [
      "Batch 725/3125, CE diff: 0.078 | temperature: 2.0e-04\n"
     ]
    },
    {
     "name": "stderr",
     "output_type": "stream",
     "text": [
      " 24%|██▍       | 751/3125 [11:28<36:24,  1.09it/s]"
     ]
    },
    {
     "name": "stdout",
     "output_type": "stream",
     "text": [
      "Batch 750/3125, CE diff: 0.070 | temperature: 1.8e-04\n"
     ]
    },
    {
     "name": "stderr",
     "output_type": "stream",
     "text": [
      " 25%|██▍       | 776/3125 [11:51<35:58,  1.09it/s]"
     ]
    },
    {
     "name": "stdout",
     "output_type": "stream",
     "text": [
      "Batch 775/3125, CE diff: 0.063 | temperature: 1.6e-04\n"
     ]
    },
    {
     "name": "stderr",
     "output_type": "stream",
     "text": [
      " 26%|██▌       | 801/3125 [12:14<35:38,  1.09it/s]"
     ]
    },
    {
     "name": "stdout",
     "output_type": "stream",
     "text": [
      "Batch 800/3125, CE diff: 0.079 | temperature: 1.3e-04\n"
     ]
    },
    {
     "name": "stderr",
     "output_type": "stream",
     "text": [
      " 26%|██▋       | 826/3125 [12:37<35:15,  1.09it/s]"
     ]
    },
    {
     "name": "stdout",
     "output_type": "stream",
     "text": [
      "Batch 825/3125, CE diff: 0.070 | temperature: 1.1e-04\n"
     ]
    },
    {
     "name": "stderr",
     "output_type": "stream",
     "text": [
      " 27%|██▋       | 851/3125 [13:00<34:47,  1.09it/s]"
     ]
    },
    {
     "name": "stdout",
     "output_type": "stream",
     "text": [
      "Batch 850/3125, CE diff: 0.066 | temperature: 8.4e-05\n"
     ]
    },
    {
     "name": "stderr",
     "output_type": "stream",
     "text": [
      " 28%|██▊       | 876/3125 [13:23<34:23,  1.09it/s]"
     ]
    },
    {
     "name": "stdout",
     "output_type": "stream",
     "text": [
      "Batch 875/3125, CE diff: 0.070 | temperature: 6.0e-05\n"
     ]
    },
    {
     "name": "stderr",
     "output_type": "stream",
     "text": [
      " 29%|██▉       | 901/3125 [13:46<34:10,  1.08it/s]"
     ]
    },
    {
     "name": "stdout",
     "output_type": "stream",
     "text": [
      "Batch 900/3125, CE diff: 0.057 | temperature: 3.6e-05\n"
     ]
    },
    {
     "name": "stderr",
     "output_type": "stream",
     "text": [
      " 30%|██▉       | 926/3125 [14:09<33:44,  1.09it/s]"
     ]
    },
    {
     "name": "stdout",
     "output_type": "stream",
     "text": [
      "Batch 925/3125, CE diff: 0.066 | temperature: 1.2e-05\n"
     ]
    },
    {
     "name": "stderr",
     "output_type": "stream",
     "text": [
      " 30%|███       | 939/3125 [14:21<33:41,  1.08it/s]"
     ]
    },
    {
     "name": "stdout",
     "output_type": "stream",
     "text": [
      "Restarting Adam optimizer\n"
     ]
    },
    {
     "name": "stderr",
     "output_type": "stream",
     "text": [
      " 30%|███       | 951/3125 [14:33<33:38,  1.08it/s]"
     ]
    },
    {
     "name": "stdout",
     "output_type": "stream",
     "text": [
      "Batch 950/3125, CE diff: 0.047 | temperature: 0.0e+00\n"
     ]
    },
    {
     "name": "stderr",
     "output_type": "stream",
     "text": [
      " 31%|███       | 976/3125 [14:56<33:15,  1.08it/s]"
     ]
    },
    {
     "name": "stdout",
     "output_type": "stream",
     "text": [
      "Batch 975/3125, CE diff: 0.037 | temperature: 0.0e+00\n"
     ]
    },
    {
     "name": "stderr",
     "output_type": "stream",
     "text": [
      " 32%|███▏      | 1001/3125 [15:19<33:06,  1.07it/s]"
     ]
    },
    {
     "name": "stdout",
     "output_type": "stream",
     "text": [
      "Batch 1000/3125, CE diff: 0.039 | temperature: 0.0e+00\n"
     ]
    },
    {
     "name": "stderr",
     "output_type": "stream",
     "text": [
      " 33%|███▎      | 1026/3125 [15:42<32:24,  1.08it/s]"
     ]
    },
    {
     "name": "stdout",
     "output_type": "stream",
     "text": [
      "Batch 1025/3125, CE diff: 0.024 | temperature: 0.0e+00\n"
     ]
    },
    {
     "name": "stderr",
     "output_type": "stream",
     "text": [
      " 34%|███▎      | 1051/3125 [16:06<32:13,  1.07it/s]"
     ]
    },
    {
     "name": "stdout",
     "output_type": "stream",
     "text": [
      "Batch 1050/3125, CE diff: 0.028 | temperature: 0.0e+00\n"
     ]
    },
    {
     "name": "stderr",
     "output_type": "stream",
     "text": [
      " 34%|███▍      | 1076/3125 [16:29<31:43,  1.08it/s]"
     ]
    },
    {
     "name": "stdout",
     "output_type": "stream",
     "text": [
      "Batch 1075/3125, CE diff: 0.020 | temperature: 0.0e+00\n"
     ]
    },
    {
     "name": "stderr",
     "output_type": "stream",
     "text": [
      " 35%|███▌      | 1101/3125 [16:52<31:30,  1.07it/s]"
     ]
    },
    {
     "name": "stdout",
     "output_type": "stream",
     "text": [
      "Batch 1100/3125, CE diff: 0.007 | temperature: 0.0e+00\n"
     ]
    },
    {
     "name": "stderr",
     "output_type": "stream",
     "text": [
      " 36%|███▌      | 1126/3125 [17:15<31:01,  1.07it/s]"
     ]
    },
    {
     "name": "stdout",
     "output_type": "stream",
     "text": [
      "Batch 1125/3125, CE diff: 0.004 | temperature: 0.0e+00\n"
     ]
    },
    {
     "name": "stderr",
     "output_type": "stream",
     "text": [
      " 37%|███▋      | 1151/3125 [17:39<30:28,  1.08it/s]"
     ]
    },
    {
     "name": "stdout",
     "output_type": "stream",
     "text": [
      "Batch 1150/3125, CE diff: 0.018 | temperature: 0.0e+00\n"
     ]
    },
    {
     "name": "stderr",
     "output_type": "stream",
     "text": [
      " 38%|███▊      | 1176/3125 [18:02<30:15,  1.07it/s]"
     ]
    },
    {
     "name": "stdout",
     "output_type": "stream",
     "text": [
      "Batch 1175/3125, CE diff: 0.012 | temperature: 0.0e+00\n"
     ]
    },
    {
     "name": "stderr",
     "output_type": "stream",
     "text": [
      " 38%|███▊      | 1201/3125 [18:25<29:46,  1.08it/s]"
     ]
    },
    {
     "name": "stdout",
     "output_type": "stream",
     "text": [
      "Batch 1200/3125, CE diff: 0.007 | temperature: 0.0e+00\n"
     ]
    },
    {
     "name": "stderr",
     "output_type": "stream",
     "text": [
      " 39%|███▉      | 1226/3125 [18:48<29:32,  1.07it/s]"
     ]
    },
    {
     "name": "stdout",
     "output_type": "stream",
     "text": [
      "Batch 1225/3125, CE diff: 0.017 | temperature: 0.0e+00\n"
     ]
    },
    {
     "name": "stderr",
     "output_type": "stream",
     "text": [
      " 40%|████      | 1251/3125 [19:12<28:52,  1.08it/s]"
     ]
    },
    {
     "name": "stdout",
     "output_type": "stream",
     "text": [
      "Batch 1250/3125, CE diff: -0.004 | temperature: 0.0e+00\n"
     ]
    },
    {
     "name": "stderr",
     "output_type": "stream",
     "text": [
      " 41%|████      | 1276/3125 [19:35<28:30,  1.08it/s]"
     ]
    },
    {
     "name": "stdout",
     "output_type": "stream",
     "text": [
      "Batch 1275/3125, CE diff: -0.008 | temperature: 0.0e+00\n"
     ]
    },
    {
     "name": "stderr",
     "output_type": "stream",
     "text": [
      " 42%|████▏     | 1301/3125 [19:58<28:38,  1.06it/s]"
     ]
    },
    {
     "name": "stdout",
     "output_type": "stream",
     "text": [
      "Batch 1300/3125, CE diff: -0.004 | temperature: 0.0e+00\n"
     ]
    },
    {
     "name": "stderr",
     "output_type": "stream",
     "text": [
      " 42%|████▏     | 1326/3125 [20:21<27:42,  1.08it/s]"
     ]
    },
    {
     "name": "stdout",
     "output_type": "stream",
     "text": [
      "Batch 1325/3125, CE diff: 0.001 | temperature: 0.0e+00\n"
     ]
    },
    {
     "name": "stderr",
     "output_type": "stream",
     "text": [
      " 43%|████▎     | 1351/3125 [20:45<27:38,  1.07it/s]"
     ]
    },
    {
     "name": "stdout",
     "output_type": "stream",
     "text": [
      "Batch 1350/3125, CE diff: -0.009 | temperature: 0.0e+00\n"
     ]
    },
    {
     "name": "stderr",
     "output_type": "stream",
     "text": [
      " 44%|████▍     | 1376/3125 [21:08<27:08,  1.07it/s]"
     ]
    },
    {
     "name": "stdout",
     "output_type": "stream",
     "text": [
      "Batch 1375/3125, CE diff: -0.021 | temperature: 0.0e+00\n"
     ]
    },
    {
     "name": "stderr",
     "output_type": "stream",
     "text": [
      " 45%|████▍     | 1401/3125 [21:31<26:36,  1.08it/s]"
     ]
    },
    {
     "name": "stdout",
     "output_type": "stream",
     "text": [
      "Batch 1400/3125, CE diff: -0.005 | temperature: 0.0e+00\n"
     ]
    },
    {
     "name": "stderr",
     "output_type": "stream",
     "text": [
      " 46%|████▌     | 1426/3125 [21:54<26:24,  1.07it/s]"
     ]
    },
    {
     "name": "stdout",
     "output_type": "stream",
     "text": [
      "Batch 1425/3125, CE diff: 0.001 | temperature: 0.0e+00\n"
     ]
    },
    {
     "name": "stderr",
     "output_type": "stream",
     "text": [
      " 46%|████▋     | 1451/3125 [22:18<26:15,  1.06it/s]"
     ]
    },
    {
     "name": "stdout",
     "output_type": "stream",
     "text": [
      "Batch 1450/3125, CE diff: -0.016 | temperature: 0.0e+00\n"
     ]
    },
    {
     "name": "stderr",
     "output_type": "stream",
     "text": [
      " 47%|████▋     | 1476/3125 [22:41<25:24,  1.08it/s]"
     ]
    },
    {
     "name": "stdout",
     "output_type": "stream",
     "text": [
      "Batch 1475/3125, CE diff: -0.009 | temperature: 0.0e+00\n"
     ]
    },
    {
     "name": "stderr",
     "output_type": "stream",
     "text": [
      " 48%|████▊     | 1501/3125 [23:04<25:09,  1.08it/s]"
     ]
    },
    {
     "name": "stdout",
     "output_type": "stream",
     "text": [
      "Batch 1500/3125, CE diff: -0.014 | temperature: 0.0e+00\n"
     ]
    },
    {
     "name": "stderr",
     "output_type": "stream",
     "text": [
      " 49%|████▉     | 1526/3125 [23:27<24:57,  1.07it/s]"
     ]
    },
    {
     "name": "stdout",
     "output_type": "stream",
     "text": [
      "Batch 1525/3125, CE diff: -0.016 | temperature: 0.0e+00\n"
     ]
    },
    {
     "name": "stderr",
     "output_type": "stream",
     "text": [
      " 50%|████▉     | 1551/3125 [23:51<24:21,  1.08it/s]"
     ]
    },
    {
     "name": "stdout",
     "output_type": "stream",
     "text": [
      "Batch 1550/3125, CE diff: -0.024 | temperature: 0.0e+00\n"
     ]
    },
    {
     "name": "stderr",
     "output_type": "stream",
     "text": [
      " 50%|█████     | 1576/3125 [24:14<24:05,  1.07it/s]"
     ]
    },
    {
     "name": "stdout",
     "output_type": "stream",
     "text": [
      "Batch 1575/3125, CE diff: -0.006 | temperature: 0.0e+00\n"
     ]
    },
    {
     "name": "stderr",
     "output_type": "stream",
     "text": [
      " 51%|█████     | 1601/3125 [24:37<23:39,  1.07it/s]"
     ]
    },
    {
     "name": "stdout",
     "output_type": "stream",
     "text": [
      "Batch 1600/3125, CE diff: -0.013 | temperature: 0.0e+00\n"
     ]
    },
    {
     "name": "stderr",
     "output_type": "stream",
     "text": [
      " 52%|█████▏    | 1626/3125 [25:01<23:26,  1.07it/s]"
     ]
    },
    {
     "name": "stdout",
     "output_type": "stream",
     "text": [
      "Batch 1625/3125, CE diff: -0.015 | temperature: 0.0e+00\n"
     ]
    },
    {
     "name": "stderr",
     "output_type": "stream",
     "text": [
      " 53%|█████▎    | 1651/3125 [25:24<22:45,  1.08it/s]"
     ]
    },
    {
     "name": "stdout",
     "output_type": "stream",
     "text": [
      "Batch 1650/3125, CE diff: -0.011 | temperature: 0.0e+00\n"
     ]
    },
    {
     "name": "stderr",
     "output_type": "stream",
     "text": [
      " 54%|█████▎    | 1676/3125 [25:47<22:21,  1.08it/s]"
     ]
    },
    {
     "name": "stdout",
     "output_type": "stream",
     "text": [
      "Batch 1675/3125, CE diff: -0.024 | temperature: 0.0e+00\n"
     ]
    },
    {
     "name": "stderr",
     "output_type": "stream",
     "text": [
      " 54%|█████▍    | 1701/3125 [26:10<22:05,  1.07it/s]"
     ]
    },
    {
     "name": "stdout",
     "output_type": "stream",
     "text": [
      "Batch 1700/3125, CE diff: -0.024 | temperature: 0.0e+00\n"
     ]
    },
    {
     "name": "stderr",
     "output_type": "stream",
     "text": [
      " 55%|█████▌    | 1726/3125 [26:33<21:43,  1.07it/s]"
     ]
    },
    {
     "name": "stdout",
     "output_type": "stream",
     "text": [
      "Batch 1725/3125, CE diff: -0.021 | temperature: 0.0e+00\n"
     ]
    },
    {
     "name": "stderr",
     "output_type": "stream",
     "text": [
      " 56%|█████▌    | 1751/3125 [26:57<21:19,  1.07it/s]"
     ]
    },
    {
     "name": "stdout",
     "output_type": "stream",
     "text": [
      "Batch 1750/3125, CE diff: -0.020 | temperature: 0.0e+00\n"
     ]
    },
    {
     "name": "stderr",
     "output_type": "stream",
     "text": [
      " 57%|█████▋    | 1776/3125 [27:20<20:46,  1.08it/s]"
     ]
    },
    {
     "name": "stdout",
     "output_type": "stream",
     "text": [
      "Batch 1775/3125, CE diff: -0.026 | temperature: 0.0e+00\n"
     ]
    },
    {
     "name": "stderr",
     "output_type": "stream",
     "text": [
      " 58%|█████▊    | 1801/3125 [27:43<20:27,  1.08it/s]"
     ]
    },
    {
     "name": "stdout",
     "output_type": "stream",
     "text": [
      "Batch 1800/3125, CE diff: -0.010 | temperature: 0.0e+00\n"
     ]
    },
    {
     "name": "stderr",
     "output_type": "stream",
     "text": [
      " 58%|█████▊    | 1826/3125 [28:06<20:11,  1.07it/s]"
     ]
    },
    {
     "name": "stdout",
     "output_type": "stream",
     "text": [
      "Batch 1825/3125, CE diff: -0.037 | temperature: 0.0e+00\n"
     ]
    },
    {
     "name": "stderr",
     "output_type": "stream",
     "text": [
      " 59%|█████▉    | 1851/3125 [28:30<19:46,  1.07it/s]"
     ]
    },
    {
     "name": "stdout",
     "output_type": "stream",
     "text": [
      "Batch 1850/3125, CE diff: -0.016 | temperature: 0.0e+00\n"
     ]
    },
    {
     "name": "stderr",
     "output_type": "stream",
     "text": [
      " 60%|██████    | 1876/3125 [28:53<19:20,  1.08it/s]"
     ]
    },
    {
     "name": "stdout",
     "output_type": "stream",
     "text": [
      "Batch 1875/3125, CE diff: -0.016 | temperature: 0.0e+00\n"
     ]
    },
    {
     "name": "stderr",
     "output_type": "stream",
     "text": [
      " 61%|██████    | 1901/3125 [29:16<19:01,  1.07it/s]"
     ]
    },
    {
     "name": "stdout",
     "output_type": "stream",
     "text": [
      "Batch 1900/3125, CE diff: -0.019 | temperature: 0.0e+00\n"
     ]
    },
    {
     "name": "stderr",
     "output_type": "stream",
     "text": [
      " 62%|██████▏   | 1926/3125 [29:39<18:39,  1.07it/s]"
     ]
    },
    {
     "name": "stdout",
     "output_type": "stream",
     "text": [
      "Batch 1925/3125, CE diff: -0.022 | temperature: 0.0e+00\n"
     ]
    },
    {
     "name": "stderr",
     "output_type": "stream",
     "text": [
      " 62%|██████▏   | 1951/3125 [30:03<18:08,  1.08it/s]"
     ]
    },
    {
     "name": "stdout",
     "output_type": "stream",
     "text": [
      "Batch 1950/3125, CE diff: -0.009 | temperature: 0.0e+00\n"
     ]
    },
    {
     "name": "stderr",
     "output_type": "stream",
     "text": [
      " 63%|██████▎   | 1976/3125 [30:26<17:51,  1.07it/s]"
     ]
    },
    {
     "name": "stdout",
     "output_type": "stream",
     "text": [
      "Batch 1975/3125, CE diff: -0.034 | temperature: 0.0e+00\n"
     ]
    },
    {
     "name": "stderr",
     "output_type": "stream",
     "text": [
      " 64%|██████▍   | 2001/3125 [30:49<17:32,  1.07it/s]"
     ]
    },
    {
     "name": "stdout",
     "output_type": "stream",
     "text": [
      "Batch 2000/3125, CE diff: -0.031 | temperature: 0.0e+00\n"
     ]
    },
    {
     "name": "stderr",
     "output_type": "stream",
     "text": [
      " 65%|██████▍   | 2026/3125 [31:12<17:03,  1.07it/s]"
     ]
    },
    {
     "name": "stdout",
     "output_type": "stream",
     "text": [
      "Batch 2025/3125, CE diff: -0.027 | temperature: 0.0e+00\n"
     ]
    },
    {
     "name": "stderr",
     "output_type": "stream",
     "text": [
      " 66%|██████▌   | 2051/3125 [31:36<16:41,  1.07it/s]"
     ]
    },
    {
     "name": "stdout",
     "output_type": "stream",
     "text": [
      "Batch 2050/3125, CE diff: -0.029 | temperature: 0.0e+00\n"
     ]
    },
    {
     "name": "stderr",
     "output_type": "stream",
     "text": [
      " 66%|██████▋   | 2076/3125 [31:59<16:18,  1.07it/s]"
     ]
    },
    {
     "name": "stdout",
     "output_type": "stream",
     "text": [
      "Batch 2075/3125, CE diff: -0.032 | temperature: 0.0e+00\n"
     ]
    },
    {
     "name": "stderr",
     "output_type": "stream",
     "text": [
      " 67%|██████▋   | 2101/3125 [32:22<15:50,  1.08it/s]"
     ]
    },
    {
     "name": "stdout",
     "output_type": "stream",
     "text": [
      "Batch 2100/3125, CE diff: -0.026 | temperature: 0.0e+00\n"
     ]
    },
    {
     "name": "stderr",
     "output_type": "stream",
     "text": [
      " 68%|██████▊   | 2126/3125 [32:46<15:30,  1.07it/s]"
     ]
    },
    {
     "name": "stdout",
     "output_type": "stream",
     "text": [
      "Batch 2125/3125, CE diff: -0.016 | temperature: 0.0e+00\n"
     ]
    },
    {
     "name": "stderr",
     "output_type": "stream",
     "text": [
      " 69%|██████▉   | 2151/3125 [33:09<15:06,  1.07it/s]"
     ]
    },
    {
     "name": "stdout",
     "output_type": "stream",
     "text": [
      "Batch 2150/3125, CE diff: -0.031 | temperature: 0.0e+00\n"
     ]
    },
    {
     "name": "stderr",
     "output_type": "stream",
     "text": [
      " 70%|██████▉   | 2176/3125 [33:32<14:44,  1.07it/s]"
     ]
    },
    {
     "name": "stdout",
     "output_type": "stream",
     "text": [
      "Batch 2175/3125, CE diff: -0.024 | temperature: 0.0e+00\n"
     ]
    },
    {
     "name": "stderr",
     "output_type": "stream",
     "text": [
      " 70%|███████   | 2201/3125 [33:56<14:22,  1.07it/s]"
     ]
    },
    {
     "name": "stdout",
     "output_type": "stream",
     "text": [
      "Batch 2200/3125, CE diff: -0.018 | temperature: 0.0e+00\n"
     ]
    },
    {
     "name": "stderr",
     "output_type": "stream",
     "text": [
      " 71%|███████   | 2226/3125 [34:19<13:53,  1.08it/s]"
     ]
    },
    {
     "name": "stdout",
     "output_type": "stream",
     "text": [
      "Batch 2225/3125, CE diff: -0.033 | temperature: 0.0e+00\n"
     ]
    },
    {
     "name": "stderr",
     "output_type": "stream",
     "text": [
      " 72%|███████▏  | 2251/3125 [34:42<13:31,  1.08it/s]"
     ]
    },
    {
     "name": "stdout",
     "output_type": "stream",
     "text": [
      "Batch 2250/3125, CE diff: -0.026 | temperature: 0.0e+00\n"
     ]
    },
    {
     "name": "stderr",
     "output_type": "stream",
     "text": [
      " 73%|███████▎  | 2276/3125 [35:05<13:06,  1.08it/s]"
     ]
    },
    {
     "name": "stdout",
     "output_type": "stream",
     "text": [
      "Batch 2275/3125, CE diff: -0.043 | temperature: 0.0e+00\n"
     ]
    },
    {
     "name": "stderr",
     "output_type": "stream",
     "text": [
      " 74%|███████▎  | 2301/3125 [35:28<12:46,  1.07it/s]"
     ]
    },
    {
     "name": "stdout",
     "output_type": "stream",
     "text": [
      "Batch 2300/3125, CE diff: -0.044 | temperature: 0.0e+00\n"
     ]
    },
    {
     "name": "stderr",
     "output_type": "stream",
     "text": [
      " 74%|███████▍  | 2326/3125 [35:52<12:22,  1.08it/s]"
     ]
    },
    {
     "name": "stdout",
     "output_type": "stream",
     "text": [
      "Batch 2325/3125, CE diff: -0.036 | temperature: 0.0e+00\n"
     ]
    },
    {
     "name": "stderr",
     "output_type": "stream",
     "text": [
      " 75%|███████▌  | 2351/3125 [36:15<11:57,  1.08it/s]"
     ]
    },
    {
     "name": "stdout",
     "output_type": "stream",
     "text": [
      "Batch 2350/3125, CE diff: -0.027 | temperature: 0.0e+00\n"
     ]
    },
    {
     "name": "stderr",
     "output_type": "stream",
     "text": [
      " 76%|███████▌  | 2376/3125 [36:38<11:34,  1.08it/s]"
     ]
    },
    {
     "name": "stdout",
     "output_type": "stream",
     "text": [
      "Batch 2375/3125, CE diff: -0.026 | temperature: 0.0e+00\n"
     ]
    },
    {
     "name": "stderr",
     "output_type": "stream",
     "text": [
      " 77%|███████▋  | 2401/3125 [37:01<11:12,  1.08it/s]"
     ]
    },
    {
     "name": "stdout",
     "output_type": "stream",
     "text": [
      "Batch 2400/3125, CE diff: -0.023 | temperature: 0.0e+00\n"
     ]
    },
    {
     "name": "stderr",
     "output_type": "stream",
     "text": [
      " 78%|███████▊  | 2426/3125 [37:25<10:50,  1.07it/s]"
     ]
    },
    {
     "name": "stdout",
     "output_type": "stream",
     "text": [
      "Batch 2425/3125, CE diff: -0.020 | temperature: 0.0e+00\n"
     ]
    },
    {
     "name": "stderr",
     "output_type": "stream",
     "text": [
      " 78%|███████▊  | 2451/3125 [37:48<10:28,  1.07it/s]"
     ]
    },
    {
     "name": "stdout",
     "output_type": "stream",
     "text": [
      "Batch 2450/3125, CE diff: -0.033 | temperature: 0.0e+00\n"
     ]
    },
    {
     "name": "stderr",
     "output_type": "stream",
     "text": [
      " 79%|███████▉  | 2476/3125 [38:11<10:08,  1.07it/s]"
     ]
    },
    {
     "name": "stdout",
     "output_type": "stream",
     "text": [
      "Batch 2475/3125, CE diff: -0.046 | temperature: 0.0e+00\n"
     ]
    },
    {
     "name": "stderr",
     "output_type": "stream",
     "text": [
      " 80%|████████  | 2501/3125 [38:35<09:44,  1.07it/s]"
     ]
    },
    {
     "name": "stdout",
     "output_type": "stream",
     "text": [
      "Batch 2500/3125, CE diff: -0.037 | temperature: 0.0e+00\n"
     ]
    },
    {
     "name": "stderr",
     "output_type": "stream",
     "text": [
      " 81%|████████  | 2526/3125 [38:58<09:16,  1.08it/s]"
     ]
    },
    {
     "name": "stdout",
     "output_type": "stream",
     "text": [
      "Batch 2525/3125, CE diff: -0.032 | temperature: 0.0e+00\n"
     ]
    },
    {
     "name": "stderr",
     "output_type": "stream",
     "text": [
      " 82%|████████▏ | 2551/3125 [39:21<08:53,  1.08it/s]"
     ]
    },
    {
     "name": "stdout",
     "output_type": "stream",
     "text": [
      "Batch 2550/3125, CE diff: -0.034 | temperature: 0.0e+00\n"
     ]
    },
    {
     "name": "stderr",
     "output_type": "stream",
     "text": [
      " 82%|████████▏ | 2576/3125 [39:45<08:31,  1.07it/s]"
     ]
    },
    {
     "name": "stdout",
     "output_type": "stream",
     "text": [
      "Batch 2575/3125, CE diff: -0.037 | temperature: 0.0e+00\n"
     ]
    },
    {
     "name": "stderr",
     "output_type": "stream",
     "text": [
      " 83%|████████▎ | 2601/3125 [40:08<08:09,  1.07it/s]"
     ]
    },
    {
     "name": "stdout",
     "output_type": "stream",
     "text": [
      "Batch 2600/3125, CE diff: -0.041 | temperature: 0.0e+00\n"
     ]
    },
    {
     "name": "stderr",
     "output_type": "stream",
     "text": [
      " 84%|████████▍ | 2626/3125 [40:31<07:47,  1.07it/s]"
     ]
    },
    {
     "name": "stdout",
     "output_type": "stream",
     "text": [
      "Batch 2625/3125, CE diff: -0.038 | temperature: 0.0e+00\n"
     ]
    },
    {
     "name": "stderr",
     "output_type": "stream",
     "text": [
      " 85%|████████▍ | 2651/3125 [40:55<07:22,  1.07it/s]"
     ]
    },
    {
     "name": "stdout",
     "output_type": "stream",
     "text": [
      "Batch 2650/3125, CE diff: -0.025 | temperature: 0.0e+00\n"
     ]
    },
    {
     "name": "stderr",
     "output_type": "stream",
     "text": [
      " 86%|████████▌ | 2676/3125 [41:18<06:59,  1.07it/s]"
     ]
    },
    {
     "name": "stdout",
     "output_type": "stream",
     "text": [
      "Batch 2675/3125, CE diff: -0.051 | temperature: 0.0e+00\n"
     ]
    },
    {
     "name": "stderr",
     "output_type": "stream",
     "text": [
      " 86%|████████▋ | 2701/3125 [41:42<06:34,  1.07it/s]"
     ]
    },
    {
     "name": "stdout",
     "output_type": "stream",
     "text": [
      "Batch 2700/3125, CE diff: -0.055 | temperature: 0.0e+00\n"
     ]
    },
    {
     "name": "stderr",
     "output_type": "stream",
     "text": [
      " 87%|████████▋ | 2726/3125 [42:05<06:14,  1.07it/s]"
     ]
    },
    {
     "name": "stdout",
     "output_type": "stream",
     "text": [
      "Batch 2725/3125, CE diff: -0.036 | temperature: 0.0e+00\n"
     ]
    },
    {
     "name": "stderr",
     "output_type": "stream",
     "text": [
      " 88%|████████▊ | 2751/3125 [42:28<05:49,  1.07it/s]"
     ]
    },
    {
     "name": "stdout",
     "output_type": "stream",
     "text": [
      "Batch 2750/3125, CE diff: -0.042 | temperature: 0.0e+00\n"
     ]
    },
    {
     "name": "stderr",
     "output_type": "stream",
     "text": [
      " 89%|████████▉ | 2776/3125 [42:52<05:26,  1.07it/s]"
     ]
    },
    {
     "name": "stdout",
     "output_type": "stream",
     "text": [
      "Batch 2775/3125, CE diff: -0.053 | temperature: 0.0e+00\n"
     ]
    },
    {
     "name": "stderr",
     "output_type": "stream",
     "text": [
      " 90%|████████▉ | 2801/3125 [43:15<05:01,  1.07it/s]"
     ]
    },
    {
     "name": "stdout",
     "output_type": "stream",
     "text": [
      "Batch 2800/3125, CE diff: -0.041 | temperature: 0.0e+00\n"
     ]
    },
    {
     "name": "stderr",
     "output_type": "stream",
     "text": [
      " 90%|█████████ | 2826/3125 [43:39<04:39,  1.07it/s]"
     ]
    },
    {
     "name": "stdout",
     "output_type": "stream",
     "text": [
      "Batch 2825/3125, CE diff: -0.041 | temperature: 0.0e+00\n"
     ]
    },
    {
     "name": "stderr",
     "output_type": "stream",
     "text": [
      " 91%|█████████ | 2851/3125 [44:02<04:15,  1.07it/s]"
     ]
    },
    {
     "name": "stdout",
     "output_type": "stream",
     "text": [
      "Batch 2850/3125, CE diff: -0.042 | temperature: 0.0e+00\n"
     ]
    },
    {
     "name": "stderr",
     "output_type": "stream",
     "text": [
      " 92%|█████████▏| 2876/3125 [44:25<03:55,  1.06it/s]"
     ]
    },
    {
     "name": "stdout",
     "output_type": "stream",
     "text": [
      "Batch 2875/3125, CE diff: -0.056 | temperature: 0.0e+00\n"
     ]
    },
    {
     "name": "stderr",
     "output_type": "stream",
     "text": [
      " 93%|█████████▎| 2901/3125 [44:49<03:28,  1.07it/s]"
     ]
    },
    {
     "name": "stdout",
     "output_type": "stream",
     "text": [
      "Batch 2900/3125, CE diff: -0.038 | temperature: 0.0e+00\n"
     ]
    },
    {
     "name": "stderr",
     "output_type": "stream",
     "text": [
      " 94%|█████████▎| 2926/3125 [45:12<03:04,  1.08it/s]"
     ]
    },
    {
     "name": "stdout",
     "output_type": "stream",
     "text": [
      "Batch 2925/3125, CE diff: -0.038 | temperature: 0.0e+00\n"
     ]
    },
    {
     "name": "stderr",
     "output_type": "stream",
     "text": [
      " 94%|█████████▍| 2951/3125 [45:35<02:43,  1.07it/s]"
     ]
    },
    {
     "name": "stdout",
     "output_type": "stream",
     "text": [
      "Batch 2950/3125, CE diff: -0.035 | temperature: 0.0e+00\n"
     ]
    },
    {
     "name": "stderr",
     "output_type": "stream",
     "text": [
      " 95%|█████████▌| 2976/3125 [45:59<02:19,  1.07it/s]"
     ]
    },
    {
     "name": "stdout",
     "output_type": "stream",
     "text": [
      "Batch 2975/3125, CE diff: -0.049 | temperature: 0.0e+00\n"
     ]
    },
    {
     "name": "stderr",
     "output_type": "stream",
     "text": [
      " 96%|█████████▌| 3001/3125 [46:22<01:56,  1.06it/s]"
     ]
    },
    {
     "name": "stdout",
     "output_type": "stream",
     "text": [
      "Batch 3000/3125, CE diff: -0.037 | temperature: 0.0e+00\n"
     ]
    },
    {
     "name": "stderr",
     "output_type": "stream",
     "text": [
      " 97%|█████████▋| 3026/3125 [46:45<01:32,  1.07it/s]"
     ]
    },
    {
     "name": "stdout",
     "output_type": "stream",
     "text": [
      "Batch 3025/3125, CE diff: -0.034 | temperature: 0.0e+00\n"
     ]
    },
    {
     "name": "stderr",
     "output_type": "stream",
     "text": [
      " 98%|█████████▊| 3051/3125 [47:09<01:09,  1.06it/s]"
     ]
    },
    {
     "name": "stdout",
     "output_type": "stream",
     "text": [
      "Batch 3050/3125, CE diff: -0.046 | temperature: 0.0e+00\n"
     ]
    },
    {
     "name": "stderr",
     "output_type": "stream",
     "text": [
      " 98%|█████████▊| 3076/3125 [47:32<00:45,  1.08it/s]"
     ]
    },
    {
     "name": "stdout",
     "output_type": "stream",
     "text": [
      "Batch 3075/3125, CE diff: -0.020 | temperature: 0.0e+00\n"
     ]
    },
    {
     "name": "stderr",
     "output_type": "stream",
     "text": [
      " 99%|█████████▉| 3101/3125 [47:56<00:22,  1.07it/s]"
     ]
    },
    {
     "name": "stdout",
     "output_type": "stream",
     "text": [
      "Batch 3100/3125, CE diff: -0.039 | temperature: 0.0e+00\n"
     ]
    },
    {
     "name": "stderr",
     "output_type": "stream",
     "text": [
      "100%|██████████| 3125/3125 [48:18<00:00,  1.08it/s]"
     ]
    },
    {
     "name": "stdout",
     "output_type": "stream",
     "text": [
      "average loss: 1.55\n"
     ]
    },
    {
     "name": "stderr",
     "output_type": "stream",
     "text": [
      "\n"
     ]
    }
   ],
   "source": [
    "import math\n",
    "# lots of code used from https://github.com/bfpill/devinterp-1/blob/main/modular_addition/calc_lambda.ipynb\n",
    "\n",
    "dataset_size = num_datapoints* max_length\n",
    "# beta_star_scalar = dataset_size / math.log(dataset_size) # 1/Temp (From App A)\n",
    "beta_star_scalar = 1\n",
    "lr = 1e-4  # \"epsilon\"\n",
    "gamma = 0  # Elasticity Regularization (diff from original weights w*)\n",
    "\n",
    "#temp 5.0e-4 went t. 2.0 & never recovered (also gamm=10)\n",
    "# Temperature parameters\n",
    "# max_temp = 2.0e-4\n",
    "max_temp = 3.0e-4\n",
    "lowest_temp = 0.0\n",
    "peak_noise_fraction = 0.1\n",
    "start_decreasing_fraction = 0.2\n",
    "stay_at_zero_fraction = 0.3\n",
    "tempScheduler = TemperatureScheduler(\n",
    "    max_temp,\n",
    "    lowest_temp,\n",
    "    peak_noise_fraction,\n",
    "    start_decreasing_fraction,\n",
    "    stay_at_zero_fraction\n",
    ")\n",
    "\n",
    "w_0 = (\n",
    "    torch.nn.utils.parameters_to_vector(model.parameters()).detach().clone()\n",
    ")\n",
    "from copy import deepcopy\n",
    "original_model_copy = deepcopy(model)\n",
    "all_ce_losses = []\n",
    "# all_elasticity_losses = []\n",
    "all_ce_diffs = []\n",
    "sgd_opt = torch.optim.SGD(model.parameters(), lr=1.0)\n",
    "adam_opt = torch.optim.Adam(model.parameters(), lr=learning_rate)\n",
    "restarted_adam=False\n",
    "for batch_idx in tqdm(range(total_batches)):\n",
    "    model.zero_grad()\n",
    "    batch = data_generator.next().to(device)\n",
    "    with Trace(model, target_layer) as original_trace:\n",
    "        ce_loss = model(batch, labels=batch).loss\n",
    "        # x = original_trace.output[0] if isinstance(original_trace.output, tuple) else original_trace.output\n",
    "        # x = x.detach()\n",
    "\n",
    "    # w = torch.nn.utils.parameters_to_vector(model.parameters())\n",
    "    # elasticity_loss = gamma* torch.mean(((w_0 - w) ** 2))\n",
    "    elasticity_loss = 0.0\n",
    "\n",
    "    full_loss = lr/2 * (beta_star_scalar*ce_loss + elasticity_loss)\n",
    "    full_loss.backward()\n",
    "\n",
    "    if(tempScheduler.current_state == \"low_temp\" and not restarted_adam):\n",
    "        # Restart Adam optimizer\n",
    "        print(\"Restarting Adam optimizer\")\n",
    "        for state in adam_opt.state.values():\n",
    "            state.clear()\n",
    "        adam_opt = torch.optim.Adam(model.parameters(), lr=1e-5)\n",
    "        restarted_adam = True\n",
    "    # Choose optimizer based on temperature state\n",
    "    current_opt = adam_opt if tempScheduler.current_state == \"low_temp\" else sgd_opt\n",
    "    current_opt.step()\n",
    "    # Store losses\n",
    "    all_ce_losses.append(ce_loss.item())\n",
    "    # all_elasticity_losses.append(elasticity_loss.item())\n",
    "\n",
    "    # Add noise to the parameters\n",
    "    with torch.no_grad():\n",
    "        if tempScheduler.current_state != \"low_temp\":\n",
    "            temperature = tempScheduler.get_temperature(batch_idx, total_batches)\n",
    "            noise = torch.randn_like(w_0) * temperature\n",
    "            new_params = torch.nn.utils.parameters_to_vector(model.parameters()) + noise\n",
    "            torch.nn.utils.vector_to_parameters(new_params, model.parameters())\n",
    "        if batch_idx % 1 ==0:\n",
    "            # Check CE diff w/ original model \n",
    "            orig_ce_loss = original_model_copy(batch, labels=batch).loss\n",
    "            ce_diff = ce_loss - orig_ce_loss\n",
    "            all_ce_diffs.append(ce_diff.item())\n",
    "    \n",
    "\n",
    "    if batch_idx % 25 == 0:\n",
    "    # if batch_idx % 1 == 0:\n",
    "        # do temp in einsteins notation\n",
    "        # print(f\"Batch {batch_idx}/{total_batches}, Loss: {ce_loss.item():.3f} + {elasticity_loss.item():.5f} | temperature: {temperature:.1e}\")\n",
    "        print(f\"Batch {batch_idx}/{total_batches}, CE diff: {ce_diff.item():.3f} | temperature: {temperature:.1e}\")\n",
    "        \n",
    "print(f\"average loss: {torch.tensor(all_ce_losses).mean():.2f}\")"
   ]
  },
  {
   "cell_type": "code",
   "execution_count": 6,
   "id": "6228d681",
   "metadata": {},
   "outputs": [
    {
     "data": {
      "image/png": "[encoded data removed]",
      "text/plain": [
       "<Figure size 1200x1000 with 2 Axes>"
      ]
     },
     "metadata": {},
     "output_type": "display_data"
    }
   ],
   "source": [
    "import numpy as np\n",
    "import matplotlib.pyplot as plt\n",
    "from matplotlib.ticker import ScalarFormatter\n",
    "\n",
    "\n",
    "# Generate sample data for demonstration\n",
    "n = 1\n",
    "t_ce_losses = torch.tensor(all_ce_losses)\n",
    "t_ce_losses.shape # [3125]\n",
    "pooled = F.avg_pool1d(t_ce_losses.reshape(1, 1, -1), kernel_size=n, stride=n).squeeze().squeeze()\n",
    "# total_batches = 3125\n",
    "\n",
    "# batch_indices = np.arange(total_batches // n)  # Adjusted for the pooled data\n",
    "batch_indices = np.arange(len(all_ce_diffs))  # Adjusted for the pooled data\n",
    "\n",
    "# Generate temperature values for each batch\n",
    "temperatures = [tempScheduler.get_temperature(i, total_batches) for i in batch_indices]\n",
    "\n",
    "# Create a figure with two subplots sharing the x-axis\n",
    "fig, (ax1, ax2) = plt.subplots(2, 1, figsize=(12, 10), sharex=True, gridspec_kw={'height_ratios': [2, 1]})\n",
    "\n",
    "# Plot the losses on the first subplot\n",
    "# ax1.plot(batch_indices, pooled, label='CE Loss', color='blue', alpha=0.7)\n",
    "ax1.plot(batch_indices, all_ce_diffs, label='CE Loss', color='blue', alpha=0.7)\n",
    "# ax1.plot(batch_indices, all_elasticity_losses, label='Elasticity Loss', color='red', alpha=0.7)\n",
    "ax1.set_ylabel('CE Diff')\n",
    "ax1.set_title(f'Training Losses with Max Temperature = {max_temp:.1e}', fontsize=14)\n",
    "ax1.grid(True, linestyle='--', alpha=0.7)\n",
    "ax1.legend()\n",
    "\n",
    "# Plot the temperature schedule on the second subplot\n",
    "temp_batch_indices = np.arange(len(temperatures))\n",
    "ax2.plot(temp_batch_indices, temperatures, label='Temperature', color='green', linewidth=2)\n",
    "ax2.set_ylabel('Temperature')\n",
    "ax2.set_xlabel('Batch Index')\n",
    "ax2.grid(True, linestyle='--', alpha=0.7)\n",
    "ax2.legend()\n",
    "\n",
    "# Use scientific notation for y-axis in the temperature subplot\n",
    "ax2.yaxis.set_major_formatter(ScalarFormatter(useMathText=True))\n",
    "ax2.ticklabel_format(style='sci', axis='y', scilimits=(0,0))\n",
    "\n",
    "# Add vertical lines to show the different phases of temperature\n",
    "peak_idx = int(peak_noise_fraction * total_batches)\n",
    "decrease_idx = int(start_decreasing_fraction * total_batches)\n",
    "zero_idx = int(stay_at_zero_fraction * total_batches)\n",
    "\n",
    "for ax in [ax1, ax2]:\n",
    "    ax.axvline(x=peak_idx, color='gray', linestyle='--', alpha=0.7, \n",
    "              label=f'Peak Noise ({peak_noise_fraction*100:.0f}%)')\n",
    "    ax.axvline(x=decrease_idx, color='purple', linestyle='--', alpha=0.7, \n",
    "              label=f'Start Decreasing ({start_decreasing_fraction*100:.0f}%)')\n",
    "    ax.axvline(x=zero_idx, color='black', linestyle='--', alpha=0.7, \n",
    "              label=f'Zero Temp ({stay_at_zero_fraction*100:.0f}%)')\n",
    "\n",
    "# Add a legend for the vertical lines on the first subplot only\n",
    "handles, labels = ax1.get_legend_handles_labels()\n",
    "phase_handles = handles[2:]  # Get only the vertical line handles\n",
    "phase_labels = labels[2:]    # Get only the vertical line labels\n",
    "ax1.legend(handles[:2], labels[:2], loc='upper right')  # Loss lines legend\n",
    "leg = ax1.legend(phase_handles, phase_labels, loc='upper center', bbox_to_anchor=(0.5, -0.05),\n",
    "          ncol=3, frameon=True)\n",
    "\n",
    "plt.tight_layout()\n",
    "# save the plt figure\n",
    "plt.show()"
   ]
  },
  {
   "cell_type": "code",
   "execution_count": null,
   "id": "e9d42848",
   "metadata": {},
   "outputs": [
    {
     "ename": "NameError",
     "evalue": "name 'plt' is not defined",
     "output_type": "error",
     "traceback": [
      "\u001b[0;31m---------------------------------------------------------------------------\u001b[0m",
      "\u001b[0;31mNameError\u001b[0m                                 Traceback (most recent call last)",
      "Cell \u001b[0;32mIn[1], line 5\u001b[0m\n\u001b[1;32m      1\u001b[0m \u001b[38;5;66;03m# save figure\u001b[39;00m\n\u001b[1;32m      2\u001b[0m \u001b[38;5;66;03m# fig.savefig(f\"figures/{m_name_save}_temp_schedule.png\", bbox_inches='tight', dpi=300)\u001b[39;00m\n\u001b[1;32m      3\u001b[0m \u001b[38;5;66;03m# need to use plt\u001b[39;00m\n\u001b[1;32m      4\u001b[0m \u001b[38;5;66;03m# save figure\u001b[39;00m\n\u001b[0;32m----> 5\u001b[0m \u001b[43mplt\u001b[49m\u001b[38;5;241m.\u001b[39msavefig(\u001b[38;5;124mf\u001b[39m\u001b[38;5;124m\"\u001b[39m\u001b[38;5;124mfigures/\u001b[39m\u001b[38;5;132;01m{\u001b[39;00mm_name_save\u001b[38;5;132;01m}\u001b[39;00m\u001b[38;5;124m_temp_schedule.png\u001b[39m\u001b[38;5;124m\"\u001b[39m, dpi\u001b[38;5;241m=\u001b[39m\u001b[38;5;241m300\u001b[39m, bbox_inches\u001b[38;5;241m=\u001b[39m\u001b[38;5;124m'\u001b[39m\u001b[38;5;124mtight\u001b[39m\u001b[38;5;124m'\u001b[39m)\n",
      "\u001b[0;31mNameError\u001b[0m: name 'plt' is not defined"
     ]
    }
   ],
   "source": [
    "# save figure\n",
    "# fig.savefig(f\"figures/{m_name_save}_temp_schedule.png\", bbox_inches='tight', dpi=300)\n",
    "# need to use plt\n",
    "# save figure\n",
    "plt.savefig(f\"figures/{m_name_save}_temp_schedule.png\", dpi=300, bbox_inches='tight')"
   ]
  },
  {
   "cell_type": "code",
   "execution_count": 5,
   "id": "c4d33ea1",
   "metadata": {},
   "outputs": [],
   "source": [
    "plt.show()"
   ]
  },
  {
   "cell_type": "code",
   "execution_count": null,
   "id": "6b4227d2",
   "metadata": {},
   "outputs": [],
   "source": [
    "import math\n",
    "# lots of code used from https://github.com/bfpill/devinterp-1/blob/main/modular_addition/calc_lambda.ipynb\n",
    "\n",
    "dataset_size = num_datapoints* max_length\n",
    "# beta_star_scalar = dataset_size / math.log(dataset_size) # 1/Temp (From App A)\n",
    "beta_star_scalar = 1\n",
    "lr = 1e-4  # \"epsilon\"\n",
    "gamma = 0  # Elasticity Regularization (diff from original weights w*)\n",
    "\n",
    "#temp 5.0e-4 went t. 2.0 & never recovered (also gamm=10)\n",
    "# Temperature parameters\n",
    "max_temp = 2.0e-4\n",
    "lowest_temp = 0.0\n",
    "peak_noise_fraction = 0.1\n",
    "start_decreasing_fraction = 0.5\n",
    "stay_at_zero_fraction = 0.6\n",
    "tempScheduler = TemperatureScheduler(\n",
    "    max_temp,\n",
    "    lowest_temp,\n",
    "    peak_noise_fraction,\n",
    "    start_decreasing_fraction,\n",
    "    stay_at_zero_fraction\n",
    ")\n",
    "\n",
    "w_0 = (\n",
    "    torch.nn.utils.parameters_to_vector(model.parameters()).detach().clone().to(device)\n",
    ")\n",
    "\n",
    "def custom_topk_encode(x, sae, feature_ids):\n",
    "    post_relu_feat_acts_BF = nn.functional.relu(sae.encoder(x - sae.b_dec))\n",
    "    # get the activations at the feature_ids (feature_ids is = to top_indices_BK)\n",
    "    custom_feature_acts = post_relu_feat_acts_BF[:, feature_ids]\n",
    "    return custom_feature_acts\n",
    "    # post_topk = post_relu_feat_acts_BF.topk(sae.k, sorted=False, dim=-1)\n",
    "\n",
    "    # # We can't split immediately due to nnsight\n",
    "    # tops_acts_BK = post_topk.values\n",
    "    # top_indices_BK = post_topk.indices\n",
    "\n",
    "    # buffer_BF = torch.zeros_like(post_relu_feat_acts_BF)\n",
    "    # encoded_acts_BF = buffer_BF.scatter_(dim=-1, index=top_indices_BK, src=tops_acts_BK)\n",
    "\n",
    "all_ce_losses = []\n",
    "all_ce_diffs = []\n",
    "all_elasticity_losses = []\n",
    "opt = torch.optim.SGD(model.parameters(), lr=1)\n",
    "for batch_idx in tqdm(range(total_batches)):\n",
    "    model.zero_grad()\n",
    "    batch = data_generator.next().to(device)\n",
    "    with Trace(model, target_layer) as original_trace:\n",
    "        ce_loss = model(batch, labels=batch).loss\n",
    "        x = original_trace.output[0] if isinstance(original_trace.output, tuple) else original_trace.output\n",
    "        x = x.detach()\n",
    "\n",
    "    w = torch.nn.utils.parameters_to_vector(model.parameters())\n",
    "    elasticity_loss = gamma* torch.mean(((w_0 - w) ** 2))\n",
    "\n",
    "    full_loss = lr/2 * (beta_star_scalar*ce_loss + elasticity_loss)\n",
    "    full_loss.backward()\n",
    "    opt.step()\n",
    "\n",
    "    # Store losses\n",
    "    all_ce_losses.append(ce_loss.item())\n",
    "    all_elasticity_losses.append(elasticity_loss.item())\n",
    "\n",
    "    # Add noise to the parameters\n",
    "    with torch.no_grad():\n",
    "        temperature = tempScheduler.get_temperature(batch_idx, total_batches)\n",
    "        noise = torch.randn_like(w) * temperature\n",
    "        new_params = torch.nn.utils.parameters_to_vector(model.parameters()) + noise\n",
    "        torch.nn.utils.vector_to_parameters(new_params, model.parameters())\n",
    "    \n",
    "    if batch_idx % 25 == 0:\n",
    "        # do temp in einsteins notation\n",
    "        print(f\"Batch {batch_idx}/{total_batches}, Loss: {ce_loss.item():.3f} + {elasticity_loss.item():.5f} | temperature: {temperature:.1e}\")\n",
    "\n",
    "    # SAE sims\n",
    "    with torch.no_grad():\n",
    "        # we also want the original model's SA,E features\n",
    "        # TODO: include token-SAE part, also normalize\n",
    "        with Trace(original_model, target_layer) as original_trace:\n",
    "            original_ce_loss = original_model(batch, labels=batch).loss\n",
    "            old_x = original_trace.output[0] if isinstance(original_trace.output, tuple) else original_trace.output\n",
    "            old_x = old_x.detach()\n",
    "        all_ce_diffs.append(original_ce_loss.item() - ce_loss.item())\n",
    "        # old_x = old_x normalized\n",
    "\n",
    "        # per_token_bias = sae.\n",
    "\n",
    "        _, local_mags, local_ids = old_sae.encode(old_x, return_topk=True)\n",
    "\n",
    "        new_x = x normalized\n",
    "        per_token_bias = new_sae.per_token_bias(new_x)\n",
    "        new_features = new_sae.encode(new_x, return_topk=True)        \n",
    "\n",
    "        # Find diff of existing features, avg across existing features\n",
    "        per_feature_MSE = # local_mags - new_features**2\n",
    "\n",
    "        # combine over the local_ids that are the same into our global one\n",
    "\n",
    "\n",
    "\n",
    "\n",
    "\n",
    "    \n",
    "        \n",
    "print(f\"average loss: {torch.tensor(all_ce_losses).mean():.2f}\")"
   ]
  },
  {
   "cell_type": "code",
   "execution_count": 4,
   "id": "e15c8fb7",
   "metadata": {},
   "outputs": [
    {
     "ename": "RuntimeError",
     "evalue": "Expected 2 to 3 dimensions, but got 1-dimensional tensor for argument #1 'self' (while checking arguments for avg_pool1d)",
     "output_type": "error",
     "traceback": [
      "\u001b[0;31m---------------------------------------------------------------------------\u001b[0m",
      "\u001b[0;31mRuntimeError\u001b[0m                              Traceback (most recent call last)",
      "Cell \u001b[0;32mIn[4], line 3\u001b[0m\n\u001b[1;32m      1\u001b[0m t_ce_losses \u001b[38;5;241m=\u001b[39m torch\u001b[38;5;241m.\u001b[39mtensor(all_ce_losses)\n\u001b[1;32m      2\u001b[0m n \u001b[38;5;241m=\u001b[39m \u001b[38;5;241m3\u001b[39m\n\u001b[0;32m----> 3\u001b[0m pooled \u001b[38;5;241m=\u001b[39m \u001b[43mF\u001b[49m\u001b[38;5;241;43m.\u001b[39;49m\u001b[43mavg_pool1d\u001b[49m\u001b[43m(\u001b[49m\u001b[43mt_ce_losses\u001b[49m\u001b[43m,\u001b[49m\u001b[43m \u001b[49m\u001b[43mkernel_size\u001b[49m\u001b[38;5;241;43m=\u001b[39;49m\u001b[43mn\u001b[49m\u001b[43m,\u001b[49m\u001b[43m \u001b[49m\u001b[43mstride\u001b[49m\u001b[38;5;241;43m=\u001b[39;49m\u001b[43mn\u001b[49m\u001b[43m)\u001b[49m\n\u001b[1;32m      4\u001b[0m \u001b[38;5;28mprint\u001b[39m(pooled\u001b[38;5;241m.\u001b[39mshape)\n\u001b[1;32m      6\u001b[0m pooled \u001b[38;5;241m=\u001b[39m F\u001b[38;5;241m.\u001b[39mavg_pool1d(t_ce_losses, kernel_size\u001b[38;5;241m=\u001b[39mn, stride\u001b[38;5;241m=\u001b[39m\u001b[38;5;241m2\u001b[39m)\n",
      "\u001b[0;31mRuntimeError\u001b[0m: Expected 2 to 3 dimensions, but got 1-dimensional tensor for argument #1 'self' (while checking arguments for avg_pool1d)"
     ]
    }
   ],
   "source": [
    "t_ce_losses = torch.tensor(all_ce_losses)\n",
    "n = 3\n",
    "pooled = F.avg_pool1d(t_ce_losses, kernel_size=n, stride=n)\n",
    "print(pooled.shape)\n",
    "\n",
    "# pooled = F.avg_pool1d(t_ce_losses, kernel_size=n, stride=2)\n",
    "# print(pooled.shape)\n",
    "\n",
    "# pooled = F.avg_pool1d(t_ce_losses, kernel_size=n, stride=1)\n",
    "# print(pooled.shape)"
   ]
  },
  {
   "cell_type": "code",
   "execution_count": 10,
   "id": "8e99a9e7",
   "metadata": {},
   "outputs": [
    {
     "name": "stdout",
     "output_type": "stream",
     "text": [
      "torch.Size([1, 1, 1041])\n"
     ]
    },
    {
     "data": {
      "text/plain": [
       "(tensor([[[1.5274, 1.4852]]]),\n",
       " tensor([1.5175, 1.5530, 1.5116, 1.4275, 1.5783, 1.4497]))"
      ]
     },
     "execution_count": 10,
     "metadata": {},
     "output_type": "execute_result"
    }
   ],
   "source": [
    "t_ce_losses.shape # [3125]\n",
    "pooled = F.avg_pool1d(t_ce_losses.reshape(1, 1, -1), kernel_size=n, stride=n)\n",
    "print(pooled.shape) # [1, 1, 1042.shape, ]\n",
    "pooled[:, :, :2], t_ce_losses[:6]"
   ]
  },
  {
   "cell_type": "code",
   "execution_count": 16,
   "id": "0f5c8e3b",
   "metadata": {},
   "outputs": [
    {
     "data": {
      "text/plain": [
       "(tensor(1.5539), tensor(1.6119))"
      ]
     },
     "execution_count": 16,
     "metadata": {},
     "output_type": "execute_result"
    }
   ],
   "source": [
    "t_ce_losses[:100].mean(), t_ce_losses[-100:].mean()"
   ]
  },
  {
   "cell_type": "markdown",
   "id": "9da96f80",
   "metadata": {},
   "source": [
    "# Various Losses (underestimate since the first 1/5 are ~ normal loss)\n",
    "no optimization: 1.55\n",
    "temp: CE\n",
    "0.0: 1.55\n",
    "1e-3: 1.59 (Prolly more like 1.6?)\n",
    "1.5e-3: (lead to 3+ CE loss)\n",
    "3e-3: 1.87 (probably more like 2.3?)\n",
    "1e-2: 7.56\n",
    "1e-1: "
   ]
  },
  {
   "cell_type": "markdown",
   "id": "2cb35bfb",
   "metadata": {},
   "source": [
    "# Paper's version"
   ]
  },
  {
   "cell_type": "code",
   "execution_count": null,
   "id": "e3c12a05",
   "metadata": {},
   "outputs": [
    {
     "name": "stderr",
     "output_type": "stream",
     "text": [
      "  0%|          | 0/31 [00:00<?, ?it/s]"
     ]
    },
    {
     "name": "stdout",
     "output_type": "stream",
     "text": [
      "Batch 0/31, Loss: 1.5174819231033325\n"
     ]
    },
    {
     "name": "stderr",
     "output_type": "stream",
     "text": [
      "  3%|▎         | 1/31 [00:02<01:06,  2.22s/it]"
     ]
    },
    {
     "name": "stdout",
     "output_type": "stream",
     "text": [
      "Batch 1/31, Loss: 1.5940889120101929\n"
     ]
    },
    {
     "name": "stderr",
     "output_type": "stream",
     "text": [
      "  6%|▋         | 2/31 [00:02<00:37,  1.30s/it]"
     ]
    },
    {
     "name": "stdout",
     "output_type": "stream",
     "text": [
      "Batch 2/31, Loss: 1.5510947704315186\n"
     ]
    },
    {
     "name": "stderr",
     "output_type": "stream",
     "text": [
      " 10%|▉         | 3/31 [00:03<00:28,  1.01s/it]"
     ]
    },
    {
     "name": "stdout",
     "output_type": "stream",
     "text": [
      "Batch 3/31, Loss: 1.4830965995788574\n"
     ]
    },
    {
     "name": "stderr",
     "output_type": "stream",
     "text": [
      " 13%|█▎        | 4/31 [00:04<00:23,  1.17it/s]"
     ]
    },
    {
     "name": "stdout",
     "output_type": "stream",
     "text": [
      "Batch 4/31, Loss: 1.6588068008422852\n"
     ]
    },
    {
     "name": "stderr",
     "output_type": "stream",
     "text": [
      " 16%|█▌        | 5/31 [00:04<00:20,  1.28it/s]"
     ]
    },
    {
     "name": "stdout",
     "output_type": "stream",
     "text": [
      "Batch 5/31, Loss: 1.5391548871994019\n"
     ]
    },
    {
     "name": "stderr",
     "output_type": "stream",
     "text": [
      " 19%|█▉        | 6/31 [00:05<00:18,  1.38it/s]"
     ]
    },
    {
     "name": "stdout",
     "output_type": "stream",
     "text": [
      "Batch 6/31, Loss: 1.6503872871398926\n"
     ]
    },
    {
     "name": "stderr",
     "output_type": "stream",
     "text": [
      " 23%|██▎       | 7/31 [00:06<00:16,  1.45it/s]"
     ]
    },
    {
     "name": "stdout",
     "output_type": "stream",
     "text": [
      "Batch 7/31, Loss: 1.6916022300720215\n"
     ]
    },
    {
     "name": "stderr",
     "output_type": "stream",
     "text": [
      " 26%|██▌       | 8/31 [00:06<00:15,  1.50it/s]"
     ]
    },
    {
     "name": "stdout",
     "output_type": "stream",
     "text": [
      "Batch 8/31, Loss: 1.735732078552246\n"
     ]
    },
    {
     "name": "stderr",
     "output_type": "stream",
     "text": [
      " 29%|██▉       | 9/31 [00:07<00:14,  1.53it/s]"
     ]
    },
    {
     "name": "stdout",
     "output_type": "stream",
     "text": [
      "Batch 9/31, Loss: 1.7128238677978516\n"
     ]
    },
    {
     "name": "stderr",
     "output_type": "stream",
     "text": [
      " 32%|███▏      | 10/31 [00:07<00:13,  1.56it/s]"
     ]
    },
    {
     "name": "stdout",
     "output_type": "stream",
     "text": [
      "Batch 10/31, Loss: 1.6279575824737549\n"
     ]
    },
    {
     "name": "stderr",
     "output_type": "stream",
     "text": [
      " 35%|███▌      | 11/31 [00:08<00:12,  1.58it/s]"
     ]
    },
    {
     "name": "stdout",
     "output_type": "stream",
     "text": [
      "Batch 11/31, Loss: 1.749906301498413\n"
     ]
    },
    {
     "name": "stderr",
     "output_type": "stream",
     "text": [
      " 39%|███▊      | 12/31 [00:09<00:11,  1.59it/s]"
     ]
    },
    {
     "name": "stdout",
     "output_type": "stream",
     "text": [
      "Batch 12/31, Loss: 1.773111343383789\n"
     ]
    },
    {
     "name": "stderr",
     "output_type": "stream",
     "text": [
      " 42%|████▏     | 13/31 [00:09<00:11,  1.61it/s]"
     ]
    },
    {
     "name": "stdout",
     "output_type": "stream",
     "text": [
      "Batch 13/31, Loss: 1.6503177881240845\n"
     ]
    },
    {
     "name": "stderr",
     "output_type": "stream",
     "text": [
      " 45%|████▌     | 14/31 [00:10<00:10,  1.60it/s]"
     ]
    },
    {
     "name": "stdout",
     "output_type": "stream",
     "text": [
      "Batch 14/31, Loss: 1.7286254167556763\n"
     ]
    },
    {
     "name": "stderr",
     "output_type": "stream",
     "text": [
      " 48%|████▊     | 15/31 [00:11<00:10,  1.57it/s]"
     ]
    },
    {
     "name": "stdout",
     "output_type": "stream",
     "text": [
      "Batch 15/31, Loss: 1.7342747449874878\n"
     ]
    },
    {
     "name": "stderr",
     "output_type": "stream",
     "text": [
      " 52%|█████▏    | 16/31 [00:11<00:09,  1.56it/s]"
     ]
    },
    {
     "name": "stdout",
     "output_type": "stream",
     "text": [
      "Batch 16/31, Loss: 1.8550516366958618\n"
     ]
    },
    {
     "name": "stderr",
     "output_type": "stream",
     "text": [
      " 55%|█████▍    | 17/31 [00:12<00:09,  1.55it/s]"
     ]
    },
    {
     "name": "stdout",
     "output_type": "stream",
     "text": [
      "Batch 17/31, Loss: 1.7659858465194702\n"
     ]
    },
    {
     "name": "stderr",
     "output_type": "stream",
     "text": [
      " 58%|█████▊    | 18/31 [00:12<00:08,  1.56it/s]"
     ]
    },
    {
     "name": "stdout",
     "output_type": "stream",
     "text": [
      "Batch 18/31, Loss: 1.846542477607727\n"
     ]
    },
    {
     "name": "stderr",
     "output_type": "stream",
     "text": [
      " 61%|██████▏   | 19/31 [00:13<00:07,  1.56it/s]"
     ]
    },
    {
     "name": "stdout",
     "output_type": "stream",
     "text": [
      "Batch 19/31, Loss: 1.8334592580795288\n"
     ]
    },
    {
     "name": "stderr",
     "output_type": "stream",
     "text": [
      " 65%|██████▍   | 20/31 [00:14<00:07,  1.56it/s]"
     ]
    },
    {
     "name": "stdout",
     "output_type": "stream",
     "text": [
      "Batch 20/31, Loss: 1.8509552478790283\n"
     ]
    },
    {
     "name": "stderr",
     "output_type": "stream",
     "text": [
      " 68%|██████▊   | 21/31 [00:14<00:06,  1.56it/s]"
     ]
    },
    {
     "name": "stdout",
     "output_type": "stream",
     "text": [
      "Batch 21/31, Loss: 1.8666054010391235\n"
     ]
    },
    {
     "name": "stderr",
     "output_type": "stream",
     "text": [
      " 71%|███████   | 22/31 [00:15<00:05,  1.54it/s]"
     ]
    },
    {
     "name": "stdout",
     "output_type": "stream",
     "text": [
      "Batch 22/31, Loss: 1.8199610710144043\n"
     ]
    },
    {
     "name": "stderr",
     "output_type": "stream",
     "text": [
      " 74%|███████▍  | 23/31 [00:16<00:05,  1.57it/s]"
     ]
    },
    {
     "name": "stdout",
     "output_type": "stream",
     "text": [
      "Batch 23/31, Loss: 1.8627246618270874\n"
     ]
    },
    {
     "name": "stderr",
     "output_type": "stream",
     "text": [
      " 77%|███████▋  | 24/31 [00:16<00:04,  1.58it/s]"
     ]
    },
    {
     "name": "stdout",
     "output_type": "stream",
     "text": [
      "Batch 24/31, Loss: 1.824777364730835\n"
     ]
    },
    {
     "name": "stderr",
     "output_type": "stream",
     "text": [
      " 81%|████████  | 25/31 [00:17<00:03,  1.58it/s]"
     ]
    },
    {
     "name": "stdout",
     "output_type": "stream",
     "text": [
      "Batch 25/31, Loss: 1.9027161598205566\n"
     ]
    },
    {
     "name": "stderr",
     "output_type": "stream",
     "text": [
      " 84%|████████▍ | 26/31 [00:18<00:03,  1.59it/s]"
     ]
    },
    {
     "name": "stdout",
     "output_type": "stream",
     "text": [
      "Batch 26/31, Loss: 1.9247510433197021\n"
     ]
    },
    {
     "name": "stderr",
     "output_type": "stream",
     "text": [
      " 87%|████████▋ | 27/31 [00:18<00:02,  1.60it/s]"
     ]
    },
    {
     "name": "stdout",
     "output_type": "stream",
     "text": [
      "Batch 27/31, Loss: 2.0149049758911133\n"
     ]
    },
    {
     "name": "stderr",
     "output_type": "stream",
     "text": [
      " 90%|█████████ | 28/31 [00:19<00:01,  1.60it/s]"
     ]
    },
    {
     "name": "stdout",
     "output_type": "stream",
     "text": [
      "Batch 28/31, Loss: 1.9189292192459106\n"
     ]
    },
    {
     "name": "stderr",
     "output_type": "stream",
     "text": [
      " 94%|█████████▎| 29/31 [00:19<00:01,  1.60it/s]"
     ]
    },
    {
     "name": "stdout",
     "output_type": "stream",
     "text": [
      "Batch 29/31, Loss: 1.8826706409454346\n"
     ]
    },
    {
     "name": "stderr",
     "output_type": "stream",
     "text": [
      " 97%|█████████▋| 30/31 [00:20<00:00,  1.60it/s]"
     ]
    },
    {
     "name": "stdout",
     "output_type": "stream",
     "text": [
      "Batch 30/31, Loss: 1.8817261457443237\n"
     ]
    },
    {
     "name": "stderr",
     "output_type": "stream",
     "text": [
      "100%|██████████| 31/31 [00:21<00:00,  1.47it/s]\n"
     ]
    }
   ],
   "source": [
    "\n",
    "# Original Implementation for posterity\n",
    "import math\n",
    "# lots of code used from https://github.com/bfpill/devinterp-1/blob/main/modular_addition/calc_lambda.ipynb\n",
    "\n",
    "dataset_size = num_datapoints* max_length\n",
    "# beta_star_scalar = dataset_size / math.log(dataset_size) # 1/Temp (From App A)\n",
    "beta_star_scalar = 1000\n",
    "lr = 1e-5  # \"epsilon\"\n",
    "gamma = 100  # Elasticity Regularization (diff from original weights w*)\n",
    "\n",
    "\n",
    "w_0 = (\n",
    "    torch.nn.utils.parameters_to_vector(model.parameters()).detach().clone().to(device)\n",
    ")\n",
    "\n",
    "all_ce_losses = []\n",
    "opt = torch.optim.SGD(model.parameters(), lr=1)\n",
    "for batch_idx in tqdm(range(total_batches)):\n",
    "    model.zero_grad()\n",
    "    batch = data_generator.next().to(device)\n",
    "    with Trace(model, target_layer) as original_trace:\n",
    "        ce_loss = model(batch, labels=batch).loss\n",
    "        # x = original_trace.output[0] if isinstance(original_trace.output, tuple) else original_trace.output\n",
    "        # x = x.detach()\n",
    "    all_ce_losses.append(ce_loss.item())\n",
    "    print(f\"Batch {batch_idx}/{total_batches}, Loss: {ce_loss.item()}\")\n",
    "\n",
    "    w = torch.nn.utils.parameters_to_vector(model.parameters())\n",
    "    elasticity_loss = gamma* torch.sum(((w_0 - w) ** 2))\n",
    "\n",
    "    full_loss = lr/2 * (beta_star_scalar*ce_loss + elasticity_loss)\n",
    "    full_loss.backward()\n",
    "    opt.step()\n",
    "\n",
    "    # Add noise to the parameters\n",
    "    with torch.no_grad():\n",
    "        noise = torch.randn_like(w) * math.sqrt(lr)\n",
    "        new_params = torch.nn.utils.parameters_to_vector(model.parameters()) + noise\n",
    "        torch.nn.utils.vector_to_parameters(new_params, model.parameters())\n",
    "    \n",
    "    if batch_idx+1 % 100 == 0:\n",
    "        break"
   ]
  },
  {
   "cell_type": "code",
   "execution_count": null,
   "id": "436de7ce",
   "metadata": {},
   "outputs": [
    {
     "data": {
      "text/plain": [
       "10884.55223379998"
      ]
     },
     "execution_count": 3,
     "metadata": {},
     "output_type": "execute_result"
    }
   ],
   "source": [
    "beta_star_scalar"
   ]
  },
  {
   "cell_type": "code",
   "execution_count": null,
   "id": "df2fee3e",
   "metadata": {},
   "outputs": [
    {
     "data": {
      "text/plain": [
       "(10884.55223379998, 0.08503556432656234)"
      ]
     },
     "execution_count": 4,
     "metadata": {},
     "output_type": "execute_result"
    }
   ],
   "source": [
    "grad_scale, beta_star"
   ]
  },
  {
   "cell_type": "code",
   "execution_count": null,
   "id": "bcaea25b",
   "metadata": {},
   "outputs": [
    {
     "data": {
      "text/plain": [
       "[1.5174819231033325,\n",
       " 13.509295463562012,\n",
       " 10730.595703125,\n",
       " 59638848.0,\n",
       " nan,\n",
       " nan,\n",
       " nan,\n",
       " nan,\n",
       " nan,\n",
       " nan,\n",
       " nan,\n",
       " nan,\n",
       " nan,\n",
       " nan,\n",
       " nan,\n",
       " nan,\n",
       " nan,\n",
       " nan,\n",
       " nan,\n",
       " nan,\n",
       " nan,\n",
       " nan,\n",
       " nan,\n",
       " nan,\n",
       " nan,\n",
       " nan,\n",
       " nan,\n",
       " nan,\n",
       " nan,\n",
       " nan,\n",
       " nan]"
      ]
     },
     "execution_count": 3,
     "metadata": {},
     "output_type": "execute_result"
    }
   ],
   "source": [
    "all_ce_losses"
   ]
  },
  {
   "cell_type": "markdown",
   "id": "49e4055c",
   "metadata": {},
   "source": [
    "# Older code"
   ]
  },
  {
   "cell_type": "code",
   "execution_count": null,
   "id": "d634e0bd",
   "metadata": {},
   "outputs": [
    {
     "name": "stderr",
     "output_type": "stream",
     "text": [
      "100%|██████████| 31/31 [00:20<00:00,  1.53it/s]\n"
     ]
    }
   ],
   "source": [
    "\n",
    "# Original Implementation for posterity\n",
    "import math\n",
    "dataset_size = num_datapoints* max_length\n",
    "beta_star = 1 / math.log(dataset_size) # 1/Temp (From App A)\n",
    "lr = 1e-3  # \"epsilon\"\n",
    "gamma = 1  # Elasticity Regularization (diff from original weights w*)\n",
    "\n",
    "# store initial weights\n",
    "model.optimal_weights = {}\n",
    "for name, param in model.named_parameters():\n",
    "    model.optimal_weights[name] = param.data.clone()\n",
    "\n",
    "for batch_idx in tqdm(range(total_batches)):\n",
    "    model.zero_grad()\n",
    "    batch = data_generator.next().to(device)\n",
    "    \n",
    "    outputs = model(batch, labels=batch)\n",
    "    loss = outputs.loss\n",
    "    loss.backward()\n",
    "\n",
    "    # Apply SGLD update\n",
    "    with torch.no_grad():\n",
    "        for name, param in model.named_parameters():\n",
    "            if param.grad is not None:\n",
    "                # Generate Gaussian noise (line 7)\n",
    "                noise = torch.randn_like(param.data) * math.sqrt(lr)\n",
    "                \n",
    "                # Compute elasticity term: gamma * (w* - w)\n",
    "                elasticity_loss = gamma * (model.optimal_weights[name] - param.data)\n",
    "                \n",
    "                # Gradient scaling\n",
    "                grad_scale = dataset_size * beta_star\n",
    "                \n",
    "                # Apply update\n",
    "                param.data += (lr/2) * (grad_scale * param.grad + elasticity_loss) + noise\n",
    "    \n",
    "    if batch_idx+1 % 100 == 0:\n",
    "        break\n",
    "    #     print(f\"Batch {batch_idx}/{num_iterations}, Loss: {loss.item()}\")"
   ]
  },
  {
   "cell_type": "markdown",
   "id": "ecf14dde",
   "metadata": {},
   "source": [
    "128k d_point in 20 sec: 1M in 4 min 10M in 40m"
   ]
  }
 ],
 "metadata": {
  "kernelspec": {
   "display_name": "main",
   "language": "python",
   "name": "python3"
  },
  "language_info": {
   "codemirror_mode": {
    "name": "ipython",
    "version": 3
   },
   "file_extension": ".py",
   "mimetype": "text/x-python",
   "name": "python",
   "nbconvert_exporter": "python",
   "pygments_lexer": "ipython3",
   "version": "3.10.12"
  }
 },
 "nbformat": 4,
 "nbformat_minor": 5
}
