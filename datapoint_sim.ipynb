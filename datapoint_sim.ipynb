{
 "cells": [
  {
   "cell_type": "code",
   "execution_count": 9,
   "metadata": {},
   "outputs": [
    {
     "name": "stdout",
     "output_type": "stream",
     "text": [
      "tensor(-0., dtype=torch.float16)\n",
      "tensor(-0., dtype=torch.float16)\n",
      "tensor(-0., dtype=torch.float16)\n",
      "tensor(-0., dtype=torch.float16)\n",
      "tensor(1.1921e-07, dtype=torch.float16)\n",
      "tensor(-0., dtype=torch.float16)\n",
      "tensor(-0., dtype=torch.float16)\n",
      "tensor(-0., dtype=torch.float16)\n",
      "tensor(-0., dtype=torch.float16)\n",
      "tensor(-0., dtype=torch.float16)\n",
      "tensor(-0., dtype=torch.float16)\n"
     ]
    }
   ],
   "source": [
    "# Load the feature sim from the checkpoint\n",
    "import torch\n",
    "# format is checkpoints/feature_sim_0.pt, checkpoints/feature_sim_19, checkpoints/feature_sim_39\n",
    "# checkpoint_every = 30\n",
    "# max_checkpoint = 420\n",
    "checkpoint_every = 50\n",
    "max_checkpoint = 600\n",
    "# checkpoint_every = 10\n",
    "# max_checkpoint = 60\n",
    "\n",
    "# all_checkpoint_names = [f\"checkpoints/feature_sim_{i}.pt\" for i in list(range(19, 360, 20))]\n",
    "all_checkpoint_names = [f\"checkpoints/feature_sim_{i}.pt\" for i in list(range(checkpoint_every, max_checkpoint, checkpoint_every))]\n",
    "\n",
    "all_acts = []\n",
    "all_ce_diffs = []\n",
    "noisy_ce_diff = None\n",
    "noisy_acts = None\n",
    "for checkpoint_name in all_checkpoint_names:\n",
    "    checkpoint_noise = torch.load(checkpoint_name)\n",
    "    ce_diff_key, activation_key, orig_feat_key, noisy_feat_key  = checkpoint_noise.keys()\n",
    "    # just get original activation & ce diff\n",
    "    if checkpoint_name == all_checkpoint_names[5]:\n",
    "        noisy_ce_diff = checkpoint_noise[ce_diff_key]\n",
    "        noisy_acts = checkpoint_noise[activation_key]\n",
    "    activations = checkpoint_noise[activation_key]\n",
    "    ce_diffs = checkpoint_noise[ce_diff_key]\n",
    "    all_acts.append(activations)\n",
    "    all_ce_diffs.append(ce_diffs)\n",
    "\n",
    "all_acts = torch.cat(all_acts, dim=0)\n",
    "all_ce_diffs = torch.cat(all_ce_diffs, dim=0)\n"
   ]
  },
  {
   "cell_type": "code",
   "execution_count": 12,
   "metadata": {},
   "outputs": [],
   "source": [
    "original_name = \"checkpoints/first_batch_info_skip_first_token.pt\"\n",
    "first_checkpoint = torch.load(original_name)\n",
    "ce_key, act_key, tok_key = first_checkpoint.keys()\n",
    "orig_ce_loss = first_checkpoint[ce_key]"
   ]
  },
  {
   "cell_type": "code",
   "execution_count": 14,
   "metadata": {},
   "outputs": [
    {
     "data": {
      "text/plain": [
       "(torch.Size([640, 127]), torch.Size([640, 127]))"
      ]
     },
     "execution_count": 14,
     "metadata": {},
     "output_type": "execute_result"
    }
   ],
   "source": [
    "orig_ce_loss.shape, noisy_ce_diff.shape"
   ]
  },
  {
   "cell_type": "code",
   "execution_count": 38,
   "metadata": {},
   "outputs": [
    {
     "name": "stdout",
     "output_type": "stream",
     "text": [
      "Num of Nans:  0\n",
      "Num of infs:  11\n"
     ]
    }
   ],
   "source": [
    "EPS = 1e-3 # Any lower & we get infs. past 1e-8, we get nans\n",
    "log_odds = torch.log((noisy_ce_diff + EPS)/(orig_ce_loss + EPS))\n",
    "print(f\"Num of Nans: \", log_odds.isnan().sum().item())\n",
    "print(f\"Num of infs: \", log_odds.isinf().sum().item())\n",
    "# orig_ce_loss[], noisy_ce_diff[log_odds.isinf()]"
   ]
  },
  {
   "cell_type": "code",
   "execution_count": 37,
   "metadata": {},
   "outputs": [
    {
     "data": {
      "text/plain": [
       "(tensor(-9.5703, dtype=torch.float16), tensor(9.5469, dtype=torch.float16))"
      ]
     },
     "execution_count": 37,
     "metadata": {},
     "output_type": "execute_result"
    }
   ],
   "source": [
    "log_odds.min(), log_odds.max()"
   ]
  },
  {
   "cell_type": "code",
   "execution_count": 41,
   "metadata": {},
   "outputs": [
    {
     "data": {
      "text/plain": [
       "torch.Size([640, 127])"
      ]
     },
     "execution_count": 41,
     "metadata": {},
     "output_type": "execute_result"
    }
   ],
   "source": [
    "log_odds.shape"
   ]
  },
  {
   "cell_type": "code",
   "execution_count": 43,
   "metadata": {},
   "outputs": [
    {
     "data": {
      "text/plain": [
       "tensor([nan, nan, nan,  ..., nan, nan, nan], dtype=torch.float16)"
      ]
     },
     "execution_count": 43,
     "metadata": {},
     "output_type": "execute_result"
    }
   ],
   "source": [
    "log_odds.flatten()"
   ]
  },
  {
   "cell_type": "code",
   "execution_count": 2,
   "metadata": {},
   "outputs": [
    {
     "data": {
      "text/plain": [
       "(0.001665353775024414, 0.9592437744140625)"
      ]
     },
     "execution_count": 2,
     "metadata": {},
     "output_type": "execute_result"
    }
   ],
   "source": [
    "(all_acts.numel()*2)/(1024**3), all_ce_diffs.numel()*2/1024**3"
   ]
  },
  {
   "cell_type": "code",
   "execution_count": 7,
   "metadata": {},
   "outputs": [
    {
     "name": "stdout",
     "output_type": "stream",
     "text": [
      "tensor(367., dtype=torch.float16) tensor(-161.3750, dtype=torch.float16)\n"
     ]
    }
   ],
   "source": [
    "flat_ce = all_ce_diffs.flatten()\n",
    "max_ce = flat_ce.max()\n",
    "min_ce = flat_ce.min()\n",
    "print(max_ce, min_ce)"
   ]
  },
  {
   "cell_type": "code",
   "execution_count": null,
   "metadata": {},
   "outputs": [],
   "source": [
    "noisy_ce_diff = "
   ]
  },
  {
   "cell_type": "code",
   "execution_count": 4,
   "metadata": {},
   "outputs": [
    {
     "data": {
      "text/plain": [
       "'checkpoints/feature_sim_300.pt'"
      ]
     },
     "execution_count": 4,
     "metadata": {},
     "output_type": "execute_result"
    }
   ],
   "source": [
    "# Max noise of CE dif -.07 is batch 300 (index 5)\n",
    "all_checkpoint_names[5]"
   ]
  },
  {
   "cell_type": "code",
   "execution_count": 4,
   "metadata": {},
   "outputs": [],
   "source": [
    "# Let's figure out dead features\n",
    "num_acts_threshold = 10\n",
    "nz_mask = (noise_orig_feat !=0).sum(dim=(0,1)) > num_acts_threshold"
   ]
  },
  {
   "cell_type": "code",
   "execution_count": 5,
   "metadata": {},
   "outputs": [],
   "source": [
    "nz_features = nz_mask.nonzero()[:, 0]"
   ]
  },
  {
   "cell_type": "code",
   "execution_count": 6,
   "metadata": {},
   "outputs": [],
   "source": [
    "# import numpy as np\n",
    "# import matplotlib.pyplot as plt\n",
    "# for i in range(5):\n",
    "#     o_d1 = noise_orig_feat[:, :, i]\n",
    "#     n_d1 = noise_noisy_feat[:, :, i]\n",
    "#     mask = o_d1 != 0\n",
    "#     diff = o_d1[mask] - n_d1[mask]\n",
    "#     # print the mean and std of the diff\n",
    "#     print(f\"Feature {i}: Mean = {diff.mean()}, Std = {diff.std()}\")\n",
    "\n",
    "#     plt.hist(diff, bins=25, label=f\"Diff Feature {i}\", alpha=0.5)\n",
    "# plt.legend()\n",
    "# plt.title(\"Feature Activation Difference\")\n",
    "# plt.show()"
   ]
  },
  {
   "cell_type": "code",
   "execution_count": 7,
   "metadata": {},
   "outputs": [
    {
     "name": "stderr",
     "output_type": "stream",
     "text": [
      "  0%|          | 0/7427 [00:00<?, ?it/s]"
     ]
    },
    {
     "name": "stderr",
     "output_type": "stream",
     "text": [
      "100%|██████████| 7427/7427 [02:10<00:00, 57.01it/s] \n"
     ]
    }
   ],
   "source": [
    "\n",
    "\n",
    "num_features = noise_orig_feat.shape[-1]\n",
    "device = torch.device(\"cuda\" if torch.cuda.is_available() else \"cpu\")\n",
    "from tqdm import tqdm\n",
    "stds = []\n",
    "vars = []\n",
    "means = []\n",
    "medians = []\n",
    "for i in tqdm(nz_features):\n",
    "# for i in tqdm(range(10)):\n",
    "    o_d1 = noise_orig_feat[:, :, i]\n",
    "    n_d1 = noise_noisy_feat[:, :, i]\n",
    "    mask = o_d1 != 0\n",
    "    diff = o_d1[mask].to(device) - n_d1[mask].to(device)\n",
    "    stds.append(diff.std().item())\n",
    "    vars.append(diff.var().item())\n",
    "    means.append(diff.mean().item())\n",
    "    medians.append(diff.median().item())"
   ]
  },
  {
   "cell_type": "code",
   "execution_count": 8,
   "metadata": {},
   "outputs": [],
   "source": [
    "def z_score_transform(x):\n",
    "    return (x - x.mean()) / x.std()\n",
    "stds = z_score_transform(torch.tensor(stds))\n",
    "vars = z_score_transform(torch.tensor(vars))\n",
    "means = z_score_transform(torch.tensor(means))\n",
    "medians = z_score_transform(torch.tensor(medians))\n"
   ]
  },
  {
   "cell_type": "code",
   "execution_count": 9,
   "metadata": {},
   "outputs": [
    {
     "data": {
      "text/plain": [
       "(tensor(1.), tensor(1.2719e-07))"
      ]
     },
     "execution_count": 9,
     "metadata": {},
     "output_type": "execute_result"
    }
   ],
   "source": [
    "stds.std(), stds.mean()"
   ]
  },
  {
   "cell_type": "code",
   "execution_count": 12,
   "metadata": {},
   "outputs": [
    {
     "data": {
      "image/png": "[encoded data removed]",
      "text/plain": [
       "<Figure size 640x480 with 1 Axes>"
      ]
     },
     "metadata": {},
     "output_type": "display_data"
    },
    {
     "data": {
      "image/png": "[encoded data removed]",
      "text/plain": [
       "<Figure size 640x480 with 1 Axes>"
      ]
     },
     "metadata": {},
     "output_type": "display_data"
    },
    {
     "data": {
      "image/png": "[encoded data removed]",
      "text/plain": [
       "<Figure size 640x480 with 1 Axes>"
      ]
     },
     "metadata": {},
     "output_type": "display_data"
    },
    {
     "data": {
      "image/png": "[encoded data removed]",
      "text/plain": [
       "<Figure size 640x480 with 1 Axes>"
      ]
     },
     "metadata": {},
     "output_type": "display_data"
    }
   ],
   "source": [
    "# plot a hist of the vars\n",
    "from matplotlib import pyplot as plt\n",
    "plt.hist(vars, bins=25, label=\"Variance\")\n",
    "plt.title(\"Feature Diff Variance\")\n",
    "plt.show()\n",
    "# plot a hist of the means\n",
    "plt.hist(means, bins=25, label=\"Mean\")\n",
    "plt.title(\"Feature Diff Mean\")\n",
    "plt.show()\n",
    "# plot a hist of the medians\n",
    "plt.hist(medians, bins=25, label=\"Median\")\n",
    "plt.title(\"Feature Diff Median\")\n",
    "plt.show()\n",
    "# plot a hist of the stds\n",
    "plt.hist(stds, bins=25, label=\"Std\")\n",
    "plt.title(\"Feature Diff Std\")\n",
    "plt.show()"
   ]
  },
  {
   "cell_type": "code",
   "execution_count": 11,
   "metadata": {},
   "outputs": [
    {
     "name": "stdout",
     "output_type": "stream",
     "text": [
      "Top 10 features by mean: tensor([4239, 8481, 8604, 9187, 8494, 4305, 3551, 5336, 7991, 1464])\n",
      "Top 10 features by variance: tensor([8649, 8442, 7747, 6814, 6759, 7933, 3596, 7656, 6382, 4305])\n",
      "Top 10 features by std: tensor([8649, 8442, 7747, 6814, 6759, 7933, 3596, 7656, 6382, 4305])\n",
      "Top 10 features by median: tensor([4239, 1464, 8481, 9187, 1462, 8604, 3551, 8494, 7991, 7255])\n",
      "Top 10 features by zero var: tensor([59, 60, 61, 64, 65, 67, 68, 69, 71, 72, 73, 76, 79, 80, 82, 83, 85, 87,\n",
      "        88, 90])\n"
     ]
    }
   ],
   "source": [
    "mean_mags, mean_idxs = means.topk(10)\n",
    "vars_mags, vars_idxs = vars.topk(10)\n",
    "stds_mags, stds_idxs = stds.topk(10)\n",
    "medians_mags, medians_idxs = medians.topk(10)\n",
    "\n",
    "# Need to convert back to global indices through nz_features\n",
    "print(f\"Top 10 features by mean: {nz_features[mean_idxs]}\")\n",
    "print(f\"Top 10 features by variance: {nz_features[vars_idxs]}\")\n",
    "print(f\"Top 10 features by std: {nz_features[stds_idxs]}\")\n",
    "print(f\"Top 10 features by median: {nz_features[medians_idxs]}\")\n",
    "\n",
    "# Now find the ones that have the near-zero stds\n",
    "zero_vars = (vars < 0.0001).nonzero()[:, 0]\n",
    "print(f\"Top 10 features by zero var: {nz_features[zero_vars][30:50]}\")"
   ]
  },
  {
   "cell_type": "code",
   "execution_count": 34,
   "metadata": {},
   "outputs": [
    {
     "data": {
      "text/plain": [
       "(torch.Size([7427]), torch.Size([5240]))"
      ]
     },
     "execution_count": 34,
     "metadata": {},
     "output_type": "execute_result"
    }
   ],
   "source": [
    "nz_features.shape, zero_vars.shape"
   ]
  },
  {
   "cell_type": "code",
   "execution_count": 9,
   "metadata": {},
   "outputs": [
    {
     "data": {
      "text/plain": [
       "tensor([-0.0706,  0.0834,  0.0460, -0.0913, -0.1450,  0.0207,  0.0056, -0.0278,\n",
       "        -0.0132,  0.0049,  0.0286,  0.0780, -0.0527,  0.0186,  0.0154,  0.1267,\n",
       "         0.2539, -0.0619, -0.0085,  0.3252, -0.0613,  0.1151,  0.0471,  0.0950,\n",
       "        -0.0645], dtype=torch.float16)"
      ]
     },
     "execution_count": 9,
     "metadata": {},
     "output_type": "execute_result"
    }
   ],
   "source": [
    "n_d1.topk(10), o_d1.topk(10)\n",
    "mask = o_d1 != 0\n",
    "(o_d1[mask] - n_d1[mask])"
   ]
  },
  {
   "cell_type": "code",
   "execution_count": 31,
   "metadata": {},
   "outputs": [
    {
     "ename": "IndexError",
     "evalue": "The shape of the mask [9216] at index 0 does not match the shape of the indexed tensor [1600, 127, 9216] at index 0",
     "output_type": "error",
     "traceback": [
      "\u001b[0;31m---------------------------------------------------------------------------\u001b[0m",
      "\u001b[0;31mIndexError\u001b[0m                                Traceback (most recent call last)",
      "Cell \u001b[0;32mIn[31], line 2\u001b[0m\n\u001b[1;32m      1\u001b[0m num_acts_threshold \u001b[38;5;241m=\u001b[39m \u001b[38;5;241m10\u001b[39m\n\u001b[0;32m----> 2\u001b[0m noise_orig_feat_nz \u001b[38;5;241m=\u001b[39m \u001b[43mnoise_orig_feat\u001b[49m\u001b[43m[\u001b[49m\u001b[43m(\u001b[49m\u001b[43mnoise_orig_feat\u001b[49m\u001b[43m \u001b[49m\u001b[38;5;241;43m!=\u001b[39;49m\u001b[38;5;241;43m0\u001b[39;49m\u001b[43m)\u001b[49m\u001b[38;5;241;43m.\u001b[39;49m\u001b[43msum\u001b[49m\u001b[43m(\u001b[49m\u001b[43mdim\u001b[49m\u001b[38;5;241;43m=\u001b[39;49m\u001b[43m(\u001b[49m\u001b[38;5;241;43m0\u001b[39;49m\u001b[43m,\u001b[49m\u001b[38;5;241;43m1\u001b[39;49m\u001b[43m)\u001b[49m\u001b[43m)\u001b[49m\u001b[43m \u001b[49m\u001b[38;5;241;43m>\u001b[39;49m\u001b[43m \u001b[49m\u001b[43mnum_acts_threshold\u001b[49m\u001b[43m]\u001b[49m\n",
      "\u001b[0;31mIndexError\u001b[0m: The shape of the mask [9216] at index 0 does not match the shape of the indexed tensor [1600, 127, 9216] at index 0"
     ]
    }
   ],
   "source": [
    "num_acts_threshold = 10\n",
    "noise_orig_feat_nz = noise_orig_feat[(noise_orig_feat !=0).sum(dim=(0,1)) > num_acts_threshold]"
   ]
  },
  {
   "cell_type": "code",
   "execution_count": 34,
   "metadata": {},
   "outputs": [
    {
     "data": {
      "text/plain": [
       "tensor([[[0., 0., 0.,  ..., 0., 0., 0.],\n",
       "         [0., 0., 0.,  ..., 0., 0., 0.],\n",
       "         [0., 0., 0.,  ..., 0., 0., 0.],\n",
       "         ...,\n",
       "         [0., 0., 0.,  ..., 0., 0., 0.],\n",
       "         [0., 0., 0.,  ..., 0., 0., 0.],\n",
       "         [0., 0., 0.,  ..., 0., 0., 0.]],\n",
       "\n",
       "        [[0., 0., 0.,  ..., 0., 0., 0.],\n",
       "         [0., 0., 0.,  ..., 0., 0., 0.],\n",
       "         [0., 0., 0.,  ..., 0., 0., 0.],\n",
       "         ...,\n",
       "         [0., 0., 0.,  ..., 0., 0., 0.],\n",
       "         [0., 0., 0.,  ..., 0., 0., 0.],\n",
       "         [0., 0., 0.,  ..., 0., 0., 0.]],\n",
       "\n",
       "        [[0., 0., 0.,  ..., 0., 0., 0.],\n",
       "         [0., 0., 0.,  ..., 0., 0., 0.],\n",
       "         [0., 0., 0.,  ..., 0., 0., 0.],\n",
       "         ...,\n",
       "         [0., 0., 0.,  ..., 0., 0., 0.],\n",
       "         [0., 0., 0.,  ..., 0., 0., 0.],\n",
       "         [0., 0., 0.,  ..., 0., 0., 0.]],\n",
       "\n",
       "        ...,\n",
       "\n",
       "        [[0., 0., 0.,  ..., 0., 0., 0.],\n",
       "         [0., 0., 0.,  ..., 0., 0., 0.],\n",
       "         [0., 0., 0.,  ..., 0., 0., 0.],\n",
       "         ...,\n",
       "         [0., 0., 0.,  ..., 0., 0., 0.],\n",
       "         [0., 0., 0.,  ..., 0., 0., 0.],\n",
       "         [0., 0., 0.,  ..., 0., 0., 0.]],\n",
       "\n",
       "        [[0., 0., 0.,  ..., 0., 0., 0.],\n",
       "         [0., 0., 0.,  ..., 0., 0., 0.],\n",
       "         [0., 0., 0.,  ..., 0., 0., 0.],\n",
       "         ...,\n",
       "         [0., 0., 0.,  ..., 0., 0., 0.],\n",
       "         [0., 0., 0.,  ..., 0., 0., 0.],\n",
       "         [0., 0., 0.,  ..., 0., 0., 0.]],\n",
       "\n",
       "        [[0., 0., 0.,  ..., 0., 0., 0.],\n",
       "         [0., 0., 0.,  ..., 0., 0., 0.],\n",
       "         [0., 0., 0.,  ..., 0., 0., 0.],\n",
       "         ...,\n",
       "         [0., 0., 0.,  ..., 0., 0., 0.],\n",
       "         [0., 0., 0.,  ..., 0., 0., 0.],\n",
       "         [0., 0., 0.,  ..., 0., 0., 0.]]], dtype=torch.float16)"
      ]
     },
     "execution_count": 34,
     "metadata": {},
     "output_type": "execute_result"
    }
   ],
   "source": [
    "noise_orig_feat"
   ]
  },
  {
   "cell_type": "code",
   "execution_count": 12,
   "metadata": {},
   "outputs": [
    {
     "data": {
      "text/plain": [
       "torch.return_types.topk(\n",
       "values=tensor([0.5693, 0.5493, 0.5137, 0.4055, 0.4016, 0.3955, 0.3914, 0.3826, 0.3652,\n",
       "        0.3564], dtype=torch.float16),\n",
       "indices=tensor([2471,  966, 1299, 2621, 2673, 1113, 2431, 2053,  915, 1161]))"
      ]
     },
     "execution_count": 12,
     "metadata": {},
     "output_type": "execute_result"
    }
   ],
   "source": [
    "diff.topk(10)"
   ]
  }
 ],
 "metadata": {
  "kernelspec": {
   "display_name": "main",
   "language": "python",
   "name": "python3"
  },
  "language_info": {
   "codemirror_mode": {
    "name": "ipython",
    "version": 3
   },
   "file_extension": ".py",
   "mimetype": "text/x-python",
   "name": "python",
   "nbconvert_exporter": "python",
   "pygments_lexer": "ipython3",
   "version": "3.10.12"
  }
 },
 "nbformat": 4,
 "nbformat_minor": 2
}
